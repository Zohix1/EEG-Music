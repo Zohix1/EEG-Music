{
 "cells": [
  {
   "cell_type": "markdown",
   "source": [
    "**References:** \n",
    "\n",
    "1. [DEAP: A Database for Emotion Analysis using Physiological Signals](https://www.eecs.qmul.ac.uk/mmv/datasets/deap/doc/tac_special_issue_2011.pdf)\n",
    "\n",
    "2. [Online Prediction of Driver Distraction Based on Brain Activity Patterns](https://www.researchgate.net/publication/267154789_Online_Prediction_of_Driver_Distraction_Based_on_Brain_Activity_Patterns)\n",
    "\n",
    "3. [Emotion Recognition with Machine Learning Using EEG Signals](https://arxiv.org/pdf/1903.07272.pdf)\n",
    "\n",
    "4. [EEG Correlates of Different Emotional States Elicited during Watching Music Videos](https://www.researchgate.net/publication/221622214_EEG_Correlates_of_Different_Emotional_States_Elicited_during_Watching_Music_Videos)\n",
    "\n",
    "5. [The Effect of Transcranial Magnetic Stimulation on Brain Electrical Activity](https://www.researchgate.net/publication/267811728_THE_EFFECT_OF_TRANSCRANIAL_MAGNETIC_STIMULATION_ON_BRAIN_BIOELECTRICAL_ACTIVITY)"
   ],
   "metadata": {
    "collapsed": false
   }
  },
  {
   "cell_type": "code",
   "execution_count": null,
   "metadata": {
    "colab": {
     "base_uri": "https://localhost:8080/"
    },
    "id": "Vyf3uMJNv4Co",
    "outputId": "b0449c75-2650-45de-8aca-f81cee1b1265"
   },
   "outputs": [],
   "source": [
    "import os\n",
    "import time\n",
    "import pickle\n",
    "import pandas as pd\n",
    "import numpy as np\n",
    "\n",
    "from scipy import signal\n",
    "from scipy.signal import welch\n",
    "from scipy.integrate import simps\n",
    "from scipy.stats import f_oneway\n",
    "\n",
    "from sklearn.model_selection import train_test_split\n",
    "from sklearn.preprocessing import StandardScaler\n",
    "from sklearn.svm import SVC\n",
    "from sklearn.neighbors import KNeighborsClassifier\n",
    "from sklearn.neural_network import MLPClassifier\n",
    "from sklearn import model_selection\n",
    "from sklearn.metrics import classification_report, confusion_matrix\n",
    "import itertools\n",
    "from sklearn.metrics import accuracy_score\n",
    "from sklearn.metrics import f1_score\n",
    "from sklearn.metrics import precision_recall_curve\n",
    "\n",
    "import mne\n",
    "from mne.preprocessing import (ICA, create_eog_epochs, create_ecg_epochs, corrmap)\n",
    "from mne.time_frequency import psd_welch\n",
    "from mne.decoding import cross_val_multiscore\n",
    "\n",
    "from fooof import FOOOFGroup\n",
    "from fooof.bands import Bands\n",
    "from fooof.analysis import get_band_peak_fg\n",
    "from fooof.plts.spectra import plot_spectrum\n",
    "\n",
    "import matplotlib.pyplot as plt\n",
    "from matplotlib import cm\n",
    "import seaborn as sns\n",
    "%matplotlib inline"
   ]
  },
  {
   "cell_type": "markdown",
   "metadata": {
    "id": "o_aflOWKGbi6"
   },
   "source": [
    "# Load dataset\n",
    "The EEG and peripheral physiological signals of 32 participants were recorded as each watched 40 music videos. Participants rated each video in terms of the levels of arousal, valence, dominance, and liking. The data was downsampled (to 128Hz), preprocessed and segmented in pickled Python formats."
   ]
  },
  {
   "cell_type": "code",
   "execution_count": null,
   "metadata": {
    "id": "nvA40VzlLpvj"
   },
   "outputs": [],
   "source": [
    "# Function to load data from each participant file\n",
    "def read_eeg_signal_from_file(filename):\n",
    "    x = pickle._Unpickler(open(filename, 'rb'))\n",
    "    x.encoding = 'latin1'\n",
    "    p = x.load()\n",
    "    return p"
   ]
  },
  {
   "cell_type": "code",
   "execution_count": null,
   "metadata": {
    "colab": {
     "base_uri": "https://localhost:8080/"
    },
    "id": "xXtdo39GnE74",
    "outputId": "22b5a4d3-38da-4a40-a8dd-b20dec5d94f6"
   },
   "outputs": [],
   "source": [
    "# Load only 22/32 participants with frontal videos recorded\n",
    "files = []\n",
    "for n in range(1, 20):\n",
    "    s = str(n)\n",
    "    files.append(s)"
   ]
  },
  {
   "cell_type": "markdown",
   "metadata": {
    "id": "GZ1uxeBNaYPW"
   },
   "source": [
    "Each participant file contains two arrays: a \"data\" array (40 trials x 40 channels x 8064 data) and a \"label\" array (40 trials x 4 subjective ratings: valence, arousal, dominance, liking). We combine the data files into 2 new arrays with 880 trials for 22/32 participants (participants with frontal videos recorded)."
   ]
  },
  {
   "cell_type": "code",
   "execution_count": null,
   "metadata": {
    "id": "_-88ra8rMgLu"
   },
   "outputs": [],
   "source": [
    "labels = []\n",
    "data = []\n",
    "\n",
    "for i in files:\n",
    "    filename = \"./deap_format/sample_\" + i + \".dat\"\n",
    "    trial = read_eeg_signal_from_file(filename)\n",
    "    labels.append(trial['labels'])\n",
    "    data.append(trial['data'])\n",
    "\n",
    "# Re-shape arrays into desired shapes\n",
    "labels = np.array(labels)\n",
    "labels = labels.flatten()\n",
    "labels = labels.reshape(76, 2)\n",
    "\n",
    "data = np.array(data)\n",
    "data = data.flatten()\n",
    "data = data.reshape(76, 32, 25938)"
   ]
  },
  {
   "cell_type": "markdown",
   "metadata": {
    "id": "HbF8zptv1vNb"
   },
   "source": [
    "# Explore and pre-process data"
   ]
  },
  {
   "cell_type": "markdown",
   "metadata": {
    "id": "213JmBn3LpQW"
   },
   "source": [
    "## Labels"
   ]
  },
  {
   "cell_type": "markdown",
   "metadata": {
    "id": "44LeXIJKwFZQ"
   },
   "source": [
    "#### Get Valence and Arousal ratings\n",
    "Valence describes the extent to which an emotion is positive or negative, whereas Arousal refers to its intensity, i.e., the strength of the associated emotional state."
   ]
  },
  {
   "cell_type": "code",
   "execution_count": null,
   "metadata": {
    "colab": {
     "base_uri": "https://localhost:8080/"
    },
    "id": "maidqUjXRcLk",
    "outputId": "e52293a2-1c00-4c61-ae9f-c683c8b3705d"
   },
   "outputs": [],
   "source": [
    "# Only extract Valence and Arousal ratings\n",
    "df_label_ratings = pd.DataFrame({'Valence': labels[:,0], 'Arousal': labels[:,1]})"
   ]
  },
  {
   "cell_type": "markdown",
   "metadata": {
    "id": "MbR-yzBmklEv"
   },
   "source": [
    "#### Check positive/negative cases\n",
    "\n",
    "The combinations of Valence and Arousal can be converted to emotional states: High Arousal Positive Valence (Excited, Happy), Low Arousal Positive Valence (Calm, Relaxed), High Arousal Negative Valence (Angry, Nervous), and Low Arousal Negative Valence (Sad, Bored)."
   ]
  },
  {
   "cell_type": "code",
   "execution_count": null,
   "metadata": {
    "id": "Mkys576y1YEE"
   },
   "outputs": [],
   "source": [
    "# High Arousal Positive Valence dataset\n",
    "df_hahv = df_label_ratings[(df_label_ratings['Valence'] >= np.median(labels[:,0])) & (df_label_ratings['Arousal'] >= np.median(labels[:,1]))]\n",
    "# Low Arousal Positive Valence dataset\n",
    "df_lahv = df_label_ratings[(df_label_ratings['Valence'] >= np.median(labels[:,0])) & (df_label_ratings['Arousal'] < np.median(labels[:,1]))]\n",
    "# High Arousal Negative Valence dataset\n",
    "df_halv = df_label_ratings[(df_label_ratings['Valence'] < np.median(labels[:,0])) & (df_label_ratings['Arousal'] >= np.median(labels[:,1]))]\n",
    "# Low Arousal Negative Valence dataset\n",
    "df_lalv = df_label_ratings[(df_label_ratings['Valence'] < np.median(labels[:,0])) & (df_label_ratings['Arousal'] < np.median(labels[:,1]))]"
   ]
  },
  {
   "cell_type": "markdown",
   "metadata": {
    "id": "EMULqzxuv5rG"
   },
   "source": [
    "#### One hot encoding"
   ]
  },
  {
   "cell_type": "code",
   "execution_count": null,
   "metadata": {
    "id": "ODyfQxmdkHph"
   },
   "outputs": [],
   "source": [
    "# Function to check if each trial has positive or negative valence\n",
    "def positive_valence(trial):\n",
    "    return 1 if labels[trial,0] >= np.median(labels[:,0]) else 0 \n",
    "# Function to check if each trial has high or low arousal\n",
    "def high_arousal(trial):\n",
    "    return 1 if labels[trial,1] >= np.median(labels[:,1]) else 0"
   ]
  },
  {
   "cell_type": "code",
   "execution_count": null,
   "metadata": {
    "colab": {
     "base_uri": "https://localhost:8080/"
    },
    "id": "g9J20dcmwWAs",
    "outputId": "80904415-c4eb-44ec-d85d-dd8cf0ef3822"
   },
   "outputs": [],
   "source": [
    "# Convert all ratings to boolean values\n",
    "labels_encoded = []\n",
    "for i in range(len(labels)):\n",
    "    labels_encoded.append([positive_valence(i), high_arousal(i)])\n",
    "labels_encoded = np.reshape(labels_encoded, (76, 2))\n",
    "df_labels = pd.DataFrame(data=labels_encoded, columns=[\"Positive Valence\", \"High Arousal\"])"
   ]
  },
  {
   "cell_type": "code",
   "execution_count": null,
   "metadata": {
    "id": "4DWLd5HRnokl"
   },
   "outputs": [],
   "source": [
    "# Dataset with only Valence column\n",
    "df_valence = df_labels['Positive Valence']\n",
    "# Dataset with only Arousal column\n",
    "df_arousal = df_labels['High Arousal']"
   ]
  },
  {
   "cell_type": "markdown",
   "metadata": {
    "id": "waFpwzunvEl_"
   },
   "source": [
    "## EEG data"
   ]
  },
  {
   "cell_type": "markdown",
   "metadata": {
    "id": "qJuZ48FormXW"
   },
   "source": [
    "### Separate EEG and non-EEG data\n",
    "\n",
    "The dataset includes 32 EEG channels and 8 peripheral physiological channels. The peripheral signals include: electrooculogram (EOG), electromyograms (EMG) of Zygomaticus and Trapezius muscles, GSR, respiration amplitude, blood volume by plethysmograph, skin temperature."
   ]
  },
  {
   "cell_type": "code",
   "execution_count": null,
   "metadata": {
    "id": "6szil8NKrgCC"
   },
   "outputs": [],
   "source": [
    "eeg_channels = np.array(['Fp1', 'Fp2', 'AF3', 'AF4', 'Fz', 'F3', 'F4', 'F7', 'F8', 'FC1', 'FC2', 'FC5', 'FC6', 'Cz', 'C3', 'C4', 'T7', 'T8', 'CP1', 'CP2', 'CP5', 'CP6', 'Pz', 'P3', 'P4', 'P7', 'P8', 'PO3', 'PO4', 'Oz', 'O1', 'O2'])"
   ]
  },
  {
   "cell_type": "code",
   "execution_count": null,
   "metadata": {
    "colab": {
     "base_uri": "https://localhost:8080/"
    },
    "id": "QH6vd18C7A-v",
    "outputId": "456a038e-67e9-4c41-d9af-5c45f3564489"
   },
   "outputs": [],
   "source": [
    "eeg_data = []\n",
    "for i in range (len(data)):\n",
    "  for j in range (len(eeg_channels)):\n",
    "    eeg_data.append(data[i,j])\n",
    "eeg_data = np.reshape(eeg_data, (len(data), len(eeg_channels), len(data[0,0])))\n",
    "print(eeg_data.shape)"
   ]
  },
  {
   "cell_type": "markdown",
   "metadata": {
    "id": "PQL4IVupDmQg"
   },
   "source": [
    "### Welch's feature extraction\n",
    "\n",
    "For the EEG data, we use Welch's method to extract theta, alpha, beta, and gamma spectral\n",
    "power for each electrode. The frequency bands used:\n",
    "theta (4 - 8 Hz), alpha (8 - 12 Hz), beta (12 - 30 Hz),\n",
    "and gamma (30 - 64 Hz)."
   ]
  },
  {
   "cell_type": "code",
   "execution_count": null,
   "metadata": {
    "colab": {
     "base_uri": "https://localhost:8080/",
     "height": 219
    },
    "id": "PwoIbwSlEC3T",
    "outputId": "d793de4c-ae4f-4660-e433-f72f43605b26"
   },
   "outputs": [],
   "source": [
    "sns.set(font_scale=1.2)\n",
    "\n",
    "# Define sampling frequency and time vector\n",
    "sf = 128.\n",
    "time = np.arange(eeg_data.size) / sf\n",
    "\n",
    "# Plot the signal of first trial, last channel \n",
    "fig, ax = plt.subplots(1, 1, figsize=(16, 4))\n",
    "plt.plot(eeg_data[0,31], lw=1.5, color='k') \n",
    "plt.xlabel('Time')\n",
    "plt.ylabel('Voltage')\n",
    "sns.despine()"
   ]
  },
  {
   "cell_type": "code",
   "execution_count": null,
   "metadata": {
    "colab": {
     "base_uri": "https://localhost:8080/",
     "height": 306
    },
    "id": "OrrIZjeADoGE",
    "outputId": "7ff486e0-5b14-497a-ffb0-b1d2a8d184b8"
   },
   "outputs": [],
   "source": [
    "# Define window length (4 seconds)\n",
    "win = 4 * sf\n",
    "freqs, psd = signal.welch(eeg_data[0,31], sf, nperseg=win)\n",
    "\n",
    "# Plot the power spectrum\n",
    "sns.set(font_scale=1.2, style='white')\n",
    "plt.figure(figsize=(8, 4))\n",
    "plt.plot(freqs, psd, color='k', lw=2)\n",
    "plt.xlabel('Frequency (Hz)')\n",
    "plt.ylabel('Power spectral density (V^2 / Hz)')\n",
    "plt.ylim([0, psd.max() * 1.1])\n",
    "plt.title(\"Welch's periodogram\")\n",
    "plt.xlim([0, freqs.max()])\n",
    "sns.despine()"
   ]
  },
  {
   "cell_type": "markdown",
   "metadata": {
    "id": "bSIWwDsNHauz"
   },
   "source": [
    "#### Theta band power"
   ]
  },
  {
   "cell_type": "code",
   "execution_count": null,
   "metadata": {
    "colab": {
     "base_uri": "https://localhost:8080/",
     "height": 306
    },
    "id": "0MvdeJ65HQJ7",
    "outputId": "772c0e76-78e5-40d4-ea1f-cc4621165c15"
   },
   "outputs": [],
   "source": [
    "# Define theta lower and upper limits\n",
    "low, high = 4, 8\n",
    "\n",
    "# Find intersecting values in frequency vector\n",
    "idx_theta = np.logical_and(freqs >= low, freqs <= high)\n",
    "\n",
    "# Plot the power spectral density and fill the theta area\n",
    "plt.figure(figsize=(7, 4))\n",
    "plt.plot(freqs, psd, lw=2, color='k')\n",
    "plt.fill_between(freqs, psd, where=idx_theta, color='skyblue')\n",
    "plt.xlabel('Frequency (Hz)')\n",
    "plt.ylabel('Power spectral density (uV^2 / Hz)')\n",
    "plt.xlim([0, 50])\n",
    "plt.ylim([0, psd.max() * 1.1])\n",
    "plt.title(\"Welch's periodogram\")\n",
    "sns.despine()"
   ]
  },
  {
   "cell_type": "markdown",
   "metadata": {
    "id": "AwdusXNJGfqg"
   },
   "source": [
    "#### Alpha band power"
   ]
  },
  {
   "cell_type": "code",
   "execution_count": null,
   "metadata": {
    "colab": {
     "base_uri": "https://localhost:8080/",
     "height": 0
    },
    "id": "6hjuXM_SGhQI",
    "outputId": "9e4855ef-799d-4225-c1c3-2322981dacc0"
   },
   "outputs": [],
   "source": [
    "# Define alpha lower and upper limits\n",
    "low, high = 8, 12\n",
    "\n",
    "# Find intersecting values in frequency vector\n",
    "idx_alpha = np.logical_and(freqs >= low, freqs <= high)\n",
    "\n",
    "# Plot the power spectral density and fill the alpha area\n",
    "plt.figure(figsize=(7, 4))\n",
    "plt.plot(freqs, psd, lw=2, color='k')\n",
    "plt.fill_between(freqs, psd, where=idx_alpha, color='skyblue')\n",
    "plt.xlabel('Frequency (Hz)')\n",
    "plt.ylabel('Power spectral density (uV^2 / Hz)')\n",
    "plt.xlim([0, 50])\n",
    "plt.ylim([0, psd.max() * 1.1])\n",
    "plt.title(\"Welch's periodogram\")\n",
    "sns.despine()"
   ]
  },
  {
   "cell_type": "markdown",
   "metadata": {
    "id": "IO2bKkvRGx6-"
   },
   "source": [
    "#### Beta band power"
   ]
  },
  {
   "cell_type": "code",
   "execution_count": null,
   "metadata": {
    "colab": {
     "base_uri": "https://localhost:8080/",
     "height": 0
    },
    "id": "mhV9AdmRGuLH",
    "outputId": "3cd26091-c014-4e89-df72-c2993157528b"
   },
   "outputs": [],
   "source": [
    "# Define beta lower and upper limits\n",
    "low, high = 12, 30\n",
    "\n",
    "# Find intersecting values in frequency vector\n",
    "idx_beta = np.logical_and(freqs >= low, freqs <= high)\n",
    "\n",
    "# Plot the power spectral density and fill the beta area\n",
    "plt.figure(figsize=(7, 4))\n",
    "plt.plot(freqs, psd, lw=2, color='k')\n",
    "plt.fill_between(freqs, psd, where=idx_beta, color='skyblue')\n",
    "plt.xlabel('Frequency (Hz)')\n",
    "plt.ylabel('Power spectral density (uV^2 / Hz)')\n",
    "plt.xlim([0, 50])\n",
    "plt.ylim([0, psd.max() * 1.1])\n",
    "plt.title(\"Welch's periodogram\")\n",
    "sns.despine()"
   ]
  },
  {
   "cell_type": "markdown",
   "metadata": {
    "id": "gS3uZ_ADGdkm"
   },
   "source": [
    "#### Gamma band power"
   ]
  },
  {
   "cell_type": "code",
   "execution_count": null,
   "metadata": {
    "colab": {
     "base_uri": "https://localhost:8080/",
     "height": 0
    },
    "id": "EW0itnxAFigK",
    "outputId": "bfdb5510-4648-4fe9-a49a-c505118b0e6b"
   },
   "outputs": [],
   "source": [
    "# Define delta lower and upper limits\n",
    "low, high = 30, 64\n",
    "\n",
    "# Find intersecting values in frequency vector\n",
    "idx_gamma = np.logical_and(freqs >= low, freqs <= high)\n",
    "\n",
    "# Plot the power spectral density and fill the gamma area\n",
    "plt.figure(figsize=(7, 4))\n",
    "plt.plot(freqs, psd, lw=2, color='k')\n",
    "plt.fill_between(freqs, psd, where=idx_gamma, color='skyblue')\n",
    "plt.xlabel('Frequency (Hz)')\n",
    "plt.ylabel('Power spectral density (uV^2 / Hz)')\n",
    "plt.xlim([0, 50])\n",
    "plt.ylim([0, psd.max() * 1.1])\n",
    "plt.title(\"Welch's periodogram\")\n",
    "sns.despine()"
   ]
  },
  {
   "cell_type": "markdown",
   "metadata": {
    "id": "VFh9c8v5IoM9"
   },
   "source": [
    "#### Functions to get band power values"
   ]
  },
  {
   "cell_type": "code",
   "execution_count": null,
   "metadata": {
    "id": "z1ZQs2q3Hnno"
   },
   "outputs": [],
   "source": [
    "\"\"\"Compute the average power of the signal x in a specific frequency band.\n",
    "\n",
    "    Parameters\n",
    "    ----------\n",
    "    data : 1d-array\n",
    "        Input signal in the time-domain.\n",
    "    sf : float\n",
    "        Sampling frequency of the data.\n",
    "    band : list\n",
    "        Lower and upper frequencies of the band of interest.\n",
    "    window_sec : float\n",
    "        Length of each window in seconds.\n",
    "        If None, window_sec = (1 / min(band)) * 2\n",
    "    relative : boolean\n",
    "        If True, return the relative power (= divided by the total power of the signal).\n",
    "        If False (default), return the absolute power.\n",
    "\n",
    "    Return\n",
    "    ------\n",
    "    bp : float\n",
    "        Absolute or relative band power.\n",
    "    \"\"\"\n",
    "def bandpower(data, sf, band, window_sec=None, relative=False):\n",
    "    band = np.asarray(band)\n",
    "    low, high = band\n",
    "\n",
    "    # Define window length\n",
    "    if window_sec is not None:\n",
    "        nperseg = window_sec * sf\n",
    "    else:\n",
    "        nperseg = (2 / low) * sf\n",
    "\n",
    "    # Compute the modified periodogram (Welch)\n",
    "    freqs, psd = welch(data, sf, nperseg=nperseg)\n",
    "\n",
    "    # Frequency resolution\n",
    "    freq_res = freqs[1] - freqs[0]\n",
    "\n",
    "    # Find closest indices of band in frequency vector\n",
    "    idx_band = np.logical_and(freqs >= low, freqs <= high)\n",
    "\n",
    "    # Integral approximation of the spectrum using Simpson's rule.\n",
    "    bp = simps(psd[idx_band], dx=freq_res)\n",
    "\n",
    "    if relative:\n",
    "        bp /= simps(psd, dx=freq_res)\n",
    "    return bp"
   ]
  },
  {
   "cell_type": "code",
   "execution_count": null,
   "metadata": {
    "colab": {
     "base_uri": "https://localhost:8080/"
    },
    "id": "CN81MihX5ZbU",
    "outputId": "0e7800d4-270d-42f0-b218-fff84c6854a2"
   },
   "outputs": [],
   "source": [
    "def get_band_power(trial, channel, band):\n",
    "  bd = (0,0)\n",
    "\n",
    "  if band == \"theta\": # drownsiness, emotional connection, intuition, creativity\n",
    "    bd = (4,8)\n",
    "  elif band == \"alpha\": # reflection, relaxation\n",
    "    bd = (8,12)\n",
    "  elif band == \"beta\": # concentration, problem solving, memory\n",
    "    bd = (12,30)\n",
    "  elif band == \"gamma\": # cognition, perception, learning, multi-tasking\n",
    "    bd = (30,64)\n",
    "  \n",
    "  return bandpower(eeg_data[trial,channel], 128, bd)"
   ]
  },
  {
   "cell_type": "markdown",
   "metadata": {
    "id": "lyfrdM-nywky"
   },
   "source": [
    "### Create EEG plots"
   ]
  },
  {
   "cell_type": "markdown",
   "metadata": {
    "id": "XBF3IrqHMRn9"
   },
   "source": [
    "#### General plots"
   ]
  },
  {
   "cell_type": "code",
   "execution_count": null,
   "metadata": {
    "colab": {
     "base_uri": "https://localhost:8080/"
    },
    "id": "3tiv2_GJyo6u",
    "outputId": "f77f3e15-7c57-4ccc-9506-f78ade3ff912"
   },
   "outputs": [],
   "source": [
    "info = mne.create_info(32, sfreq=128)\n",
    "print(info)"
   ]
  },
  {
   "cell_type": "code",
   "execution_count": null,
   "metadata": {
    "colab": {
     "base_uri": "https://localhost:8080/"
    },
    "id": "4xDYQKlsyuVE",
    "outputId": "5baabdd7-e64c-4314-ec73-984f7f7682cf"
   },
   "outputs": [],
   "source": [
    "info = mne.create_info(eeg_channels.tolist(), ch_types=32*['eeg'], sfreq=128)\n",
    "info.set_montage('standard_1020')\n",
    "print(info)"
   ]
  },
  {
   "cell_type": "code",
   "execution_count": null,
   "metadata": {
    "colab": {
     "base_uri": "https://localhost:8080/"
    },
    "id": "l_0SesQm9My6",
    "outputId": "3d58640c-87bd-4934-e7f5-2ca98730b8b0"
   },
   "outputs": [],
   "source": [
    "raw_data = mne.io.RawArray(eeg_data[31], info)"
   ]
  },
  {
   "cell_type": "code",
   "execution_count": null,
   "metadata": {
    "colab": {
     "base_uri": "https://localhost:8080/",
     "height": 978
    },
    "id": "gdFV-Nkb8lra",
    "outputId": "23c33071-c4b0-4a30-f94f-459b7551e7fb"
   },
   "outputs": [],
   "source": [
    "# Plot sensor positions\n",
    "montage = mne.channels.make_standard_montage(\"biosemi32\")\n",
    "raw_data.set_montage(montage)\n",
    "montage.plot()"
   ]
  },
  {
   "cell_type": "markdown",
   "metadata": {
    "id": "XCq7PAqOMAej"
   },
   "source": [
    "#### Topomaps for each band of frequencies"
   ]
  },
  {
   "cell_type": "code",
   "execution_count": null,
   "metadata": {
    "colab": {
     "base_uri": "https://localhost:8080/",
     "height": 466
    },
    "id": "Syr3U32Cjekh",
    "outputId": "316f39fd-6425-49d9-9abb-066d5b14bb6c"
   },
   "outputs": [],
   "source": [
    "# Theta band, first trial\n",
    "evData_th = mne.EvokedArray(eeg_data[0], info)\n",
    "times = np.arange(0.05, 0.251, 0.04)\n",
    "evData_th.filter(4, 8) \n",
    "evData_th.plot_topomap(times, ch_type='eeg', average=60, time_unit='s')"
   ]
  },
  {
   "cell_type": "code",
   "execution_count": null,
   "metadata": {
    "colab": {
     "base_uri": "https://localhost:8080/",
     "height": 466
    },
    "id": "6L8tx0N1ykUO",
    "outputId": "2076e6c1-8408-4aeb-a689-ea4fec727bd3"
   },
   "outputs": [],
   "source": [
    "# Alpha band, first trial\n",
    "evData_al = mne.EvokedArray(eeg_data[0], info)\n",
    "times = np.arange(0.05, 0.251, 0.04)\n",
    "evData_al.filter(8, 12) \n",
    "evData_al.plot_topomap(times, ch_type='eeg', average=60, time_unit='s')"
   ]
  },
  {
   "cell_type": "code",
   "execution_count": null,
   "metadata": {
    "colab": {
     "base_uri": "https://localhost:8080/",
     "height": 467
    },
    "id": "87Qh_k8Fyoga",
    "outputId": "5400aedf-2eb0-46a3-d649-9541c0fdc2ac"
   },
   "outputs": [],
   "source": [
    "# Beta band, first trial\n",
    "evData_bt = mne.EvokedArray(eeg_data[0], info)\n",
    "times = np.arange(0.05, 0.251, 0.04)\n",
    "evData_bt.filter(12, 30) \n",
    "evData_bt.plot_topomap(times, ch_type='eeg', average=60, time_unit='s')"
   ]
  },
  {
   "cell_type": "code",
   "execution_count": null,
   "metadata": {
    "colab": {
     "base_uri": "https://localhost:8080/",
     "height": 468
    },
    "id": "M0FBQJbgype1",
    "outputId": "2d69beb4-0e6e-42b4-8a6e-ebb9263e5e61"
   },
   "outputs": [],
   "source": [
    "# Gamma band, first trial\n",
    "evData_gm = mne.EvokedArray(eeg_data[0], info)\n",
    "times = np.arange(0.05, 0.251, 0.04)\n",
    "evData_gm.filter(30, 63.9) \n",
    "evData_gm.plot_topomap(times, ch_type='eeg', average=60, time_unit='s')"
   ]
  },
  {
   "cell_type": "markdown",
   "metadata": {
    "id": "Ubyhu_2QpF3h"
   },
   "source": [
    "#### Topomaps of subjects from HAHV - HALV - LAHV - LALV groups"
   ]
  },
  {
   "cell_type": "code",
   "execution_count": null,
   "metadata": {
    "id": "WybyHk5UM3zU"
   },
   "outputs": [],
   "source": [
    "# Getting samples from 4 label groups, same subject\n",
    "ev_data_hahv = mne.EvokedArray(eeg_data[1], info)\n",
    "ev_data_halv = mne.EvokedArray(eeg_data[14], info)\n",
    "ev_data_lahv = mne.EvokedArray(eeg_data[6], info)\n",
    "ev_data_lalv = mne.EvokedArray(eeg_data[9], info)"
   ]
  },
  {
   "cell_type": "markdown",
   "metadata": {
    "id": "UDyMmKX6e3wl"
   },
   "source": [
    "#### Topomaps of subjects from HAHV - HALV - LAHV - LALV groups by FOOOF\n",
    "\n",
    "This will help plotting topomaps of all bands with the same scale of power spectra."
   ]
  },
  {
   "cell_type": "code",
   "execution_count": null,
   "metadata": {
    "id": "U1IFOJY6fKTf"
   },
   "outputs": [],
   "source": [
    "# Deal with NaN values when the model cannot detect peaks in any given range\n",
    "def check_nans(data, nan_policy='zero'):\n",
    "    \"\"\"Check an array for nan values, and replace, based on policy.\"\"\"\n",
    "    # Find where there are nan values in the data\n",
    "    nan_inds = np.where(np.isnan(data))\n",
    "    # Apply desired nan policy to data\n",
    "    if nan_policy == 'zero':\n",
    "        data[nan_inds] = 0\n",
    "    elif nan_policy == 'mean':\n",
    "        data[nan_inds] = np.nanmean(data)\n",
    "    else:\n",
    "        raise ValueError('Nan policy not understood.')\n",
    "    return data"
   ]
  },
  {
   "cell_type": "code",
   "execution_count": null,
   "metadata": {
    "id": "fGrJnS-AfXJ-"
   },
   "outputs": [],
   "source": [
    "# Plot the topographies across different frequency bands\n",
    "def plot_psd_fooof(evData):\n",
    "  fg = FOOOFGroup(peak_width_limits=[1, 6], min_peak_height=0.05, peak_threshold=2., max_n_peaks=6, verbose=False)\n",
    "  bands = Bands({'theta': [4, 8],'alpha': [8, 12],'beta': [12, 30],'gamma': [30, 64]})\n",
    "  freq_range = [1, 128]\n",
    "  # Calculate power spectra across the the continuous data by MNE\n",
    "  spectra, freqs = psd_welch(evData, fmin=1, fmax=128, tmin=0, tmax=250, n_overlap=150, n_fft=300)\n",
    "  fg.fit(freqs, spectra, freq_range)\n",
    "  # Plot the topographies across different frequency bands\n",
    "  fig, axes = plt.subplots(1, 4, figsize=(20, 5))\n",
    "  for ind, (label, band_def) in enumerate(bands):\n",
    "      # Extract the power peaks across channels for the current band\n",
    "      band_power = check_nans(get_band_peak_fg(fg, band_def)[:, 1])\n",
    "      # Create a topomap for the current oscillation band\n",
    "      mne.viz.plot_topomap(band_power, evData.info, cmap=cm.viridis, axes=axes[ind], show=False);\n",
    "      axes[ind].set_title(label + ' power', {'fontsize' : 16})"
   ]
  },
  {
   "cell_type": "code",
   "execution_count": null,
   "metadata": {
    "id": "DMZ9kS2rhxTQ"
   },
   "outputs": [],
   "source": [
    "def plot_psd_peak(evData):\n",
    "  fg = FOOOFGroup(peak_width_limits=[1, 6], min_peak_height=0.05, peak_threshold=2., max_n_peaks=6, verbose=False)\n",
    "  bands = Bands({'theta': [4, 8],'alpha': [8, 12],'beta': [12, 30],'gamma': [30, 64]})\n",
    "  freq_range = [1, 128]\n",
    "  # Calculate power spectra across the the continuous data by MNE\n",
    "  spectra, freqs = psd_welch(evData, fmin=1, fmax=128, tmin=0, tmax=250, n_overlap=150, n_fft=300)\n",
    "  fg.fit(freqs, spectra, freq_range)\n",
    "  # Check the largest detected peaks within each band\n",
    "  fig, axes = plt.subplots(1, 4, figsize=(20, 6))\n",
    "  for ind, (label, band_def) in enumerate(bands):\n",
    "      # Get the power values across channels for the current band\n",
    "      band_power = check_nans(get_band_peak_fg(fg, band_def)[:, 1])\n",
    "      # Extracted and plot the power spectrum model with the most band power\n",
    "      fg.get_fooof(np.argmax(band_power)).plot(ax=axes[ind], add_legend=False)\n",
    "      axes[ind].yaxis.set_ticklabels([])\n",
    "      axes[ind].set_title('biggest ' + label + ' peak', {'fontsize' : 16})"
   ]
  },
  {
   "cell_type": "code",
   "execution_count": null,
   "metadata": {
    "colab": {
     "base_uri": "https://localhost:8080/",
     "height": 353
    },
    "id": "0G0DPIsLgiRb",
    "outputId": "f44c07c7-a14f-4468-d957-f70f5c6ba6d3"
   },
   "outputs": [],
   "source": [
    "plot_psd_fooof(ev_data_hahv)"
   ]
  },
  {
   "cell_type": "code",
   "execution_count": null,
   "metadata": {
    "colab": {
     "base_uri": "https://localhost:8080/",
     "height": 439
    },
    "id": "QripbboWh9Ty",
    "outputId": "26ae15dc-6472-4a2f-92c2-94d4032e22d1"
   },
   "outputs": [],
   "source": [
    "plot_psd_peak(ev_data_hahv)"
   ]
  },
  {
   "cell_type": "code",
   "execution_count": null,
   "metadata": {
    "colab": {
     "base_uri": "https://localhost:8080/",
     "height": 353
    },
    "id": "qLXbB--GgiY2",
    "outputId": "5318971c-6ad4-46ef-a37b-1f5cd8124265"
   },
   "outputs": [],
   "source": [
    "plot_psd_fooof(ev_data_halv)"
   ]
  },
  {
   "cell_type": "code",
   "execution_count": null,
   "metadata": {
    "colab": {
     "base_uri": "https://localhost:8080/",
     "height": 439
    },
    "id": "e08iPS4wiq9b",
    "outputId": "78e3072f-caf1-46d7-f4e3-fed8dd59633f"
   },
   "outputs": [],
   "source": [
    "plot_psd_peak(ev_data_halv)"
   ]
  },
  {
   "cell_type": "code",
   "execution_count": null,
   "metadata": {
    "colab": {
     "base_uri": "https://localhost:8080/",
     "height": 353
    },
    "id": "VgAvZ7ZTgiga",
    "outputId": "60ee96fb-13f2-4a97-8c71-db4d1bc1452e"
   },
   "outputs": [],
   "source": [
    "plot_psd_fooof(ev_data_lahv)"
   ]
  },
  {
   "cell_type": "code",
   "execution_count": null,
   "metadata": {
    "colab": {
     "base_uri": "https://localhost:8080/",
     "height": 439
    },
    "id": "UbWM62w5i5Vl",
    "outputId": "cad2b9d1-a777-4545-fb76-f1e9cc1a8e00"
   },
   "outputs": [],
   "source": [
    "plot_psd_peak(ev_data_lahv)"
   ]
  },
  {
   "cell_type": "code",
   "execution_count": null,
   "metadata": {
    "colab": {
     "base_uri": "https://localhost:8080/",
     "height": 353
    },
    "id": "gJnNx4Xggioq",
    "outputId": "7150921d-dc8d-4097-ec6b-dc40638867f0"
   },
   "outputs": [],
   "source": [
    "plot_psd_fooof(ev_data_lalv)"
   ]
  },
  {
   "cell_type": "code",
   "execution_count": null,
   "metadata": {
    "colab": {
     "base_uri": "https://localhost:8080/",
     "height": 439
    },
    "id": "RyOBzJtNi8XK",
    "outputId": "4d4354bd-fdaf-4b63-f471-012cd74e6132"
   },
   "outputs": [],
   "source": [
    "plot_psd_peak(ev_data_lalv)"
   ]
  },
  {
   "cell_type": "markdown",
   "metadata": {
    "id": "Vm_iTpEy_LJy"
   },
   "source": [
    "### Process new datasets with 6 EEG regions and 4 band power values"
   ]
  },
  {
   "cell_type": "code",
   "execution_count": null,
   "metadata": {
    "id": "uPAKkeLoX1m-"
   },
   "outputs": [],
   "source": [
    "eeg_band_arr = []\n",
    "for i in range(len(eeg_data)):\n",
    "    for j in range(len(eeg_data[0])):\n",
    "        eeg_band_arr.append(get_band_power(i, j, \"theta\"))\n",
    "        eeg_band_arr.append(get_band_power(i, j, \"alpha\"))\n",
    "        eeg_band_arr.append(get_band_power(i, j, \"beta\"))\n",
    "        eeg_band_arr.append(get_band_power(i, j, \"gamma\"))\n",
    "eeg_band_arr = np.reshape(eeg_band_arr, (76, 128))"
   ]
  },
  {
   "cell_type": "markdown",
   "metadata": {
    "id": "2pUbENit2g6K"
   },
   "source": [
    "EEG channels are divided into 6 groups, according to their cerebral spatial locations. We combine the temmporal-left and temporal-right channels into the left and right groups. The frontal group only includes the fronto-central channels. All centro-parietal channels are included in the central group."
   ]
  },
  {
   "cell_type": "code",
   "execution_count": null,
   "metadata": {
    "id": "eUinxvZMnN6m"
   },
   "outputs": [],
   "source": [
    "left = np.array([\"Fp1\", \"AF3\", \"F7\", \"FC5\", \"T7\"])\n",
    "right = np.array([\"Fp2\", \"AF4\", \"F8\", \"FC6\", \"T8\"])\n",
    "frontal = np.array([\"F3\", \"FC1\", \"Fz\", \"F4\", \"FC2\"])\n",
    "parietal = np.array([\"P3\", \"P7\", \"Pz\", \"P4\", \"P8\"])\n",
    "occipital = np.array([\"O1\", \"Oz\", \"O2\", \"PO3\", \"PO4\"])\n",
    "central = np.array([\"CP5\", \"CP1\", \"Cz\", \"C4\", \"C3\", \"CP6\", \"CP2\"])"
   ]
  },
  {
   "cell_type": "markdown",
   "metadata": {
    "id": "UT6wjhN-Z_eY"
   },
   "source": [
    "#### Dataframe for Theta power values"
   ]
  },
  {
   "cell_type": "code",
   "execution_count": null,
   "metadata": {
    "colab": {
     "base_uri": "https://localhost:8080/"
    },
    "id": "zfSLIKTWaD8l",
    "outputId": "733364e1-69b4-4b2b-dfab-d6fda511ebc3"
   },
   "outputs": [],
   "source": [
    "# Transform 880 x 32 x 8064 => 880 x 32 \n",
    "eeg_theta = []\n",
    "for i in range(len(eeg_data)):\n",
    "    for j in range(len(eeg_data[0])):\n",
    "        eeg_theta.append(get_band_power(i, j, \"theta\"))\n",
    "eeg_theta = np.reshape(eeg_theta, (76, 32))\n",
    "\n",
    "df_theta = pd.DataFrame(data=eeg_theta, columns=eeg_channels)"
   ]
  },
  {
   "cell_type": "markdown",
   "metadata": {
    "id": "3M5NAOt2cnsK"
   },
   "source": [
    "#### Dataframe for Alpha power values"
   ]
  },
  {
   "cell_type": "code",
   "execution_count": null,
   "metadata": {
    "colab": {
     "base_uri": "https://localhost:8080/"
    },
    "id": "AE0PyVhqcnsO",
    "outputId": "c65861d6-0b5d-4e73-c4d4-1b163e511837"
   },
   "outputs": [],
   "source": [
    "eeg_alpha = []\n",
    "for i in range (len(eeg_data)):\n",
    "  for j in range (len(eeg_data[0])):\n",
    "    eeg_alpha.append(get_band_power(i,j,\"alpha\"))\n",
    "eeg_alpha = np.reshape(eeg_alpha, (76, 32))\n",
    "\n",
    "df_alpha = pd.DataFrame(data = eeg_alpha, columns=eeg_channels)"
   ]
  },
  {
   "cell_type": "markdown",
   "metadata": {
    "id": "hdjUxI0hdi0v"
   },
   "source": [
    "#### Dataframe for Beta power values"
   ]
  },
  {
   "cell_type": "code",
   "execution_count": null,
   "metadata": {
    "colab": {
     "base_uri": "https://localhost:8080/"
    },
    "id": "ppP9mP-odi06",
    "outputId": "7918660d-c893-4c91-bbdc-df2cef4a4696"
   },
   "outputs": [],
   "source": [
    "eeg_beta = []\n",
    "for i in range (len(eeg_data)):\n",
    "  for j in range (len(eeg_data[0])):\n",
    "    eeg_beta.append(get_band_power(i,j,\"beta\"))\n",
    "eeg_beta = np.reshape(eeg_beta, (76, 32))\n",
    "\n",
    "df_beta = pd.DataFrame(data = eeg_beta, columns=eeg_channels)"
   ]
  },
  {
   "cell_type": "markdown",
   "metadata": {
    "id": "wN4162ixeK9w"
   },
   "source": [
    "#### Dataframe for Gamma power values"
   ]
  },
  {
   "cell_type": "code",
   "execution_count": null,
   "metadata": {
    "colab": {
     "base_uri": "https://localhost:8080/"
    },
    "id": "SrkOeQvheK90",
    "outputId": "2e332e68-57b3-48ab-eab9-5d23b03fdcc9"
   },
   "outputs": [],
   "source": [
    "eeg_gamma = []\n",
    "for i in range (len(eeg_data)):\n",
    "  for j in range (len(eeg_data[0])):\n",
    "    eeg_gamma.append(get_band_power(i,j,\"gamma\"))\n",
    "eeg_gamma = np.reshape(eeg_gamma, (76, 32))\n",
    "\n",
    "df_gamma = pd.DataFrame(data = eeg_gamma, columns=eeg_channels)"
   ]
  },
  {
   "cell_type": "markdown",
   "metadata": {
    "id": "eQlRP4LrOMlk"
   },
   "source": [
    "# Train-test split and feature scaling"
   ]
  },
  {
   "cell_type": "code",
   "execution_count": null,
   "metadata": {
    "id": "Wmoxv3CbaGTL"
   },
   "outputs": [],
   "source": [
    "# Split the data into training/testing sets\n",
    "def split_train_test(x, y):\n",
    "  x_train, x_test, y_train, y_test = train_test_split(x, y, test_size=0.30, random_state=42)\n",
    "  return x_train, x_test, y_train, y_test"
   ]
  },
  {
   "cell_type": "code",
   "execution_count": null,
   "metadata": {
    "id": "Jk7-M20caZ6r"
   },
   "outputs": [],
   "source": [
    "# Feature scaling\n",
    "def feature_scaling(train, test):\n",
    "  sc = StandardScaler()\n",
    "  train = sc.fit_transform(train)\n",
    "  test = sc.transform(test)\n",
    "  return train, test"
   ]
  },
  {
   "cell_type": "markdown",
   "metadata": {
    "id": "CbCztoUDVgmR"
   },
   "source": [
    "# Cross-validation to select classifier"
   ]
  },
  {
   "cell_type": "code",
   "execution_count": null,
   "metadata": {
    "id": "oPxDs36P6IGn"
   },
   "outputs": [],
   "source": [
    "band_names = np.array([\"theta\", \"alpha\", \"beta\", \"gamma\"])\n",
    "channel_names = np.array([\"left\", \"frontal\", \"right\", \"central\", \"parietal\", \"occipital\"])\n",
    "label_names = np.array([\"valence\", \"arousal\"])"
   ]
  },
  {
   "cell_type": "code",
   "execution_count": null,
   "metadata": {
    "id": "vVJeIrFx6Kjg"
   },
   "outputs": [],
   "source": [
    "# Testing different kernels (linear, sigmoid, rbf, poly) to select the most optimal one\n",
    "clf_svm = SVC(kernel = 'linear', random_state = 42, probability=True)"
   ]
  },
  {
   "cell_type": "code",
   "execution_count": null,
   "metadata": {
    "id": "HNlNfGunJLgz"
   },
   "outputs": [],
   "source": [
    "# Testing different k (odd) numbers, algorithm (auto, ball_tree, kd_tree) and weight (uniform, distance) to select the most optimal one\n",
    "clf_knn = KNeighborsClassifier(n_neighbors=5, weights='distance', algorithm='auto')"
   ]
  },
  {
   "cell_type": "code",
   "execution_count": null,
   "metadata": {
    "id": "g5i16sQRJLq1"
   },
   "outputs": [],
   "source": [
    "# Testing different learning rate (alpha), solver (adam, sgd, lbfgs) and activation (relu, tanh, logistic) to select the most optimal one\n",
    "clf_mlp = MLPClassifier(solver='adam', activation='tanh', alpha=0.3, max_iter=400)"
   ]
  },
  {
   "cell_type": "code",
   "execution_count": null,
   "metadata": {
    "id": "KJOYrhOcWspv"
   },
   "outputs": [],
   "source": [
    "models = []\n",
    "models.append(('SVM', clf_svm))\n",
    "models.append(('k-NN', clf_knn))\n",
    "models.append(('MLP', clf_mlp))"
   ]
  },
  {
   "cell_type": "code",
   "execution_count": null,
   "metadata": {
    "id": "0H1idT6uX0EU"
   },
   "outputs": [],
   "source": [
    "import time\n",
    "def cross_validate_clf(df_x, df_y, scoring):\n",
    "  # Train-test split \n",
    "  x_train, x_test, y_train, y_test = split_train_test(df_x, df_y)\n",
    "  # Feature scaling\n",
    "  x_train, x_test = feature_scaling(x_train, x_test)\n",
    "\n",
    "  names = []\n",
    "  means = []\n",
    "  stds = []\n",
    "  times = []\n",
    "\n",
    "  # Apply CV\n",
    "  for name, model in models:\n",
    "      start_time = time.time()\n",
    "      kfold = model_selection.KFold(n_splits=5)\n",
    "      cv_results = model_selection.cross_val_score(model, x_train, y_train, cv=kfold, scoring=scoring)\n",
    "      t = (time.time() - start_time)\n",
    "      times.append(t)\n",
    "      means.append(cv_results.mean())\n",
    "      stds.append(cv_results.std())\n",
    "      names.append(name)\n",
    "\n",
    "  return names, means, stds, times"
   ]
  },
  {
   "cell_type": "markdown",
   "metadata": {
    "id": "n1qYAemsZVGI"
   },
   "source": [
    "### Arousal - Accuracy"
   ]
  },
  {
   "cell_type": "code",
   "execution_count": null,
   "metadata": {
    "colab": {
     "base_uri": "https://localhost:8080/"
    },
    "id": "1N_P0km2_DPq",
    "outputId": "43ed66ba-8fe9-46e0-d4bc-b8ad20d33066"
   },
   "outputs": [],
   "source": [
    "cross_validate_clf(eeg_band_arr, df_arousal, 'accuracy')"
   ]
  },
  {
   "cell_type": "markdown",
   "metadata": {
    "id": "rJGy_VeJMRbc"
   },
   "source": [
    "### Arousal - F1"
   ]
  },
  {
   "cell_type": "code",
   "execution_count": null,
   "metadata": {
    "colab": {
     "base_uri": "https://localhost:8080/"
    },
    "id": "prUzbWXlAhoj",
    "outputId": "df0757e1-6c68-4786-a4b1-f5564446eddd"
   },
   "outputs": [],
   "source": [
    "cross_validate_clf(eeg_band_arr, df_arousal, 'f1')"
   ]
  },
  {
   "cell_type": "markdown",
   "metadata": {
    "id": "aZkugf5yMbfG"
   },
   "source": [
    "### Valence - Accuracy"
   ]
  },
  {
   "cell_type": "code",
   "execution_count": null,
   "metadata": {
    "colab": {
     "base_uri": "https://localhost:8080/"
    },
    "id": "bYhN3X0UA-HK",
    "outputId": "d23384b2-3fe4-4f17-97e8-52cd45efd46c"
   },
   "outputs": [],
   "source": [
    "cross_validate_clf(eeg_band_arr, df_valence, 'accuracy')"
   ]
  },
  {
   "cell_type": "markdown",
   "metadata": {
    "id": "TAIvhiHIMfZK"
   },
   "source": [
    "### Valence - F1"
   ]
  },
  {
   "cell_type": "code",
   "execution_count": null,
   "metadata": {
    "colab": {
     "base_uri": "https://localhost:8080/"
    },
    "id": "fbRKJeeUBEoP",
    "outputId": "0cb9f5b9-8741-4f12-d2b8-274030535f4b"
   },
   "outputs": [],
   "source": [
    "cross_validate_clf(eeg_band_arr, df_valence, 'f1')"
   ]
  },
  {
   "cell_type": "markdown",
   "metadata": {
    "id": "Tuz9KEva1TSX"
   },
   "source": [
    "# Apply classifier"
   ]
  },
  {
   "cell_type": "markdown",
   "metadata": {
    "id": "yOuzoYWn_4wj"
   },
   "source": [
    "## Functions to run classifiers"
   ]
  },
  {
   "cell_type": "code",
   "execution_count": null,
   "metadata": {
    "id": "4huP8jJb1koq"
   },
   "outputs": [],
   "source": [
    "def run_clf_cv(band, channel, label, clf):\n",
    "  if band == \"theta\":\n",
    "    df_x = df_theta\n",
    "  elif band == \"alpha\":\n",
    "    df_x = df_alpha\n",
    "  elif band == \"beta\":\n",
    "    df_x = df_beta\n",
    "  elif band == \"gamma\":\n",
    "    df_x = df_gamma\n",
    "\n",
    "  if channel == \"left\":\n",
    "    df_x = df_x[left]\n",
    "  elif channel == \"right\":\n",
    "    df_x = df_x[right]\n",
    "  elif channel == \"frontal\":\n",
    "    df_x = df_x[frontal]\n",
    "  elif channel == \"central\":\n",
    "    df_x = df_x[central]\n",
    "  elif channel == \"parietal\":\n",
    "    df_x = df_x[parietal]\n",
    "  elif channel == \"occipital\":\n",
    "    df_x = df_x[occipital]\n",
    "\n",
    "  df_y = df_arousal if (label == \"arousal\") else df_valence\n",
    "\n",
    "  # Train-test split\n",
    "  x_train, x_test, y_train, y_test = split_train_test(df_x, df_y)\n",
    "  \n",
    "  # Apply CV\n",
    "  x_for_kfold = np.array(x_train)            \n",
    "  y_for_kfold = np.array(y_train)\n",
    "  kfold = model_selection.KFold(n_splits=5)\n",
    "\n",
    "  for i, j in kfold.split(x_for_kfold):\n",
    "   x_train2, x_test2 = x_for_kfold[i], x_for_kfold[j]\n",
    "   y_train2, y_test2 = y_for_kfold[i], y_for_kfold[j]\n",
    "  \n",
    "  # Feature scaling\n",
    "  x_train2, x_test2 = feature_scaling(x_train2, x_test2)\n",
    "\n",
    "  if clf == \"svm\":\n",
    "    clf_svm.fit(x_train2, y_train2)\n",
    "    y_predict = clf_svm.predict(x_test2)\n",
    "  elif clf == \"knn\":\n",
    "    clf_knn.fit(x_train2, y_train2)\n",
    "    y_predict = clf_knn.predict(x_test2)\n",
    "  elif clf == \"mlp\":\n",
    "    clf_mlp.fit(x_train2, y_train2)\n",
    "    y_predict = clf_mlp.predict(x_test2)\n",
    "\n",
    "  return y_test2, y_predict"
   ]
  },
  {
   "cell_type": "code",
   "execution_count": null,
   "metadata": {
    "id": "kNIJkN5dlhi2"
   },
   "outputs": [],
   "source": [
    "def get_accuracy(band, channel, label, clf):\n",
    "  y_test2, y_predict = run_clf_cv(band, channel, label, clf)\n",
    "  return np.round(accuracy_score(y_test2, y_predict)*100,2)"
   ]
  },
  {
   "cell_type": "code",
   "execution_count": null,
   "metadata": {
    "id": "iJuy1ANE_EJZ"
   },
   "outputs": [],
   "source": [
    "def print_accuracy(label, clf):\n",
    "  arr = []\n",
    "  for i in range (len(band_names)):\n",
    "    for j in range (len(channel_names)): \n",
    "      arr.append(get_accuracy(band_names[i], channel_names[j], label, clf))\n",
    "  arr = np.reshape(arr, (4,6))\n",
    "  df = pd.DataFrame(data = arr, index=band_names, columns=channel_names)\n",
    "\n",
    "  print(\"Top 3 EEG regions with highest scores\")\n",
    "  print(df.apply(lambda s: s.abs()).max().nlargest(3))\n",
    "  print()\n",
    "  print(\"Top 2 bands with highest scores\")\n",
    "  print(df.apply(lambda s: s.abs()).max(axis=1).nlargest(2))\n",
    "  print()\n",
    "  print(\"EEG region with highest scores per each band\")\n",
    "  print(df.idxmax(axis=1))\n",
    "  print()\n",
    "  print(\"Band with highest scores per each EEG region\")\n",
    "  print(df.idxmax())\n",
    "  print()\n",
    "  print(df)"
   ]
  },
  {
   "cell_type": "code",
   "execution_count": null,
   "metadata": {
    "id": "HEw2OqPSi3OI"
   },
   "outputs": [],
   "source": [
    "def get_f1(band, channel, label, clf):\n",
    "  y_test2, y_predict = run_clf_cv(band, channel, label, clf)\n",
    "  return np.round(f1_score(y_test2, y_predict)*100,2)"
   ]
  },
  {
   "cell_type": "code",
   "execution_count": null,
   "metadata": {
    "id": "VJRPq7NNi3OI"
   },
   "outputs": [],
   "source": [
    "def print_f1(label, clf):\n",
    "  arr = []\n",
    "  for i in range (len(band_names)):\n",
    "    for j in range (len(channel_names)): \n",
    "      arr.append(get_f1(band_names[i], channel_names[j], label, clf))\n",
    "  arr = np.reshape(arr, (4,6))\n",
    "  df = pd.DataFrame(data = arr, index=band_names, columns=channel_names)\n",
    "\n",
    "  print(\"Top 3 EEG regions with highest scores\")\n",
    "  print(df.apply(lambda s: s.abs()).max().nlargest(3))\n",
    "  print()\n",
    "  print(\"Top 2 bands with highest scores\")\n",
    "  print(df.apply(lambda s: s.abs()).max(axis=1).nlargest(2))\n",
    "  print()\n",
    "  print(\"EEG region with highest scores per each band\")\n",
    "  print(df.idxmax(axis=1))\n",
    "  print()\n",
    "  print(\"Band with highest scores per each EEG regions\")\n",
    "  print(df.idxmax())\n",
    "  print()\n",
    "  print(df)"
   ]
  },
  {
   "cell_type": "code",
   "execution_count": null,
   "metadata": {
    "id": "8Ejnm0aSnORY"
   },
   "outputs": [],
   "source": [
    "def plot_cm(band, channel, label, clf):\n",
    "  y_test2, y_predict = run_clf_cv(band, channel, label, clf)\n",
    "  cm = confusion_matrix(y_test2, y_predict)\n",
    "  print(cm)\n",
    "  cr = classification_report(y_test2, y_predict)\n",
    "  print(cr)\n",
    "\n",
    "  plt.figure()\n",
    "  plt.imshow(cm, interpolation='nearest', cmap=plt.cm.Blues)\n",
    "  plt.colorbar()\n",
    "\n",
    "  if label == \"valence\":\n",
    "    classes = df_valence.unique().tolist()\n",
    "  if label == \"arousal\":\n",
    "    classes = df_arousal.unique().tolist()\n",
    "\n",
    "  tick_marks = np.arange(len(classes))\n",
    "  plt.xticks(tick_marks, classes, rotation=45)\n",
    "  plt.yticks(tick_marks, classes)\n",
    "\n",
    "  thresh = cm.max() / 2.\n",
    "  for i, j in itertools.product(range(cm.shape[0]), range(cm.shape[1])):\n",
    "      plt.text(j, i, format(cm[i, j], 'd'),\n",
    "               horizontalalignment=\"center\",\n",
    "               color=\"white\" if cm[i, j] > thresh else \"black\")\n",
    "\n",
    "  plt.tight_layout()\n",
    "  plt.ylabel('True label')\n",
    "  plt.xlabel('Predicted label')\n"
   ]
  },
  {
   "cell_type": "markdown",
   "metadata": {
    "id": "0yRqQN3AJE64"
   },
   "source": [
    "## Accuracy results"
   ]
  },
  {
   "cell_type": "markdown",
   "metadata": {
    "id": "Qu8s_8E4Lq6X"
   },
   "source": [
    "### Valence"
   ]
  },
  {
   "cell_type": "code",
   "execution_count": null,
   "metadata": {
    "colab": {
     "base_uri": "https://localhost:8080/"
    },
    "id": "jYWZW53wLq6h",
    "outputId": "a5031725-4293-4315-9733-49ef260fc410"
   },
   "outputs": [],
   "source": [
    "# Only use k-NN in case of Valence after CV\n",
    "print_accuracy('valence', 'knn')"
   ]
  },
  {
   "cell_type": "markdown",
   "metadata": {
    "id": "uHawo_dHLyUB"
   },
   "source": [
    "### Arousal"
   ]
  },
  {
   "cell_type": "code",
   "execution_count": null,
   "metadata": {
    "colab": {
     "base_uri": "https://localhost:8080/"
    },
    "id": "od5jlrK5LyUC",
    "outputId": "2ad743ac-164c-4371-82cf-54d02d19e8ff"
   },
   "outputs": [],
   "source": [
    "# Only use MLP in case of Arousal after CV\n",
    "print_accuracy('arousal', 'mlp')"
   ]
  },
  {
   "cell_type": "markdown",
   "metadata": {
    "id": "XyIcBbhfi3N7"
   },
   "source": [
    "## F1 score results"
   ]
  },
  {
   "cell_type": "markdown",
   "metadata": {
    "id": "icTQXIOKi3OI"
   },
   "source": [
    "### Valence"
   ]
  },
  {
   "cell_type": "code",
   "execution_count": null,
   "metadata": {
    "colab": {
     "base_uri": "https://localhost:8080/"
    },
    "id": "6_be6CxQi3OI",
    "outputId": "a4b61479-ca0a-40b0-e7be-80647fb8498d"
   },
   "outputs": [],
   "source": [
    "# Only use k-NN in case of Valence after CV\n",
    "print_f1('valence', 'knn')"
   ]
  },
  {
   "cell_type": "markdown",
   "metadata": {
    "id": "-gyBySB0i3OJ"
   },
   "source": [
    "### Arousal"
   ]
  },
  {
   "cell_type": "code",
   "execution_count": null,
   "metadata": {
    "colab": {
     "base_uri": "https://localhost:8080/"
    },
    "id": "3_iNn2Uji3OJ",
    "outputId": "613fb238-429e-4bb5-ec5b-ed78322f2ebf"
   },
   "outputs": [],
   "source": [
    "# Only use MLP in case of Arousal after CV\n",
    "print_f1('arousal', 'mlp')"
   ]
  },
  {
   "cell_type": "markdown",
   "metadata": {
    "id": "NrxRO1B94cRL"
   },
   "source": [
    "## Plot results"
   ]
  },
  {
   "cell_type": "markdown",
   "metadata": {
    "id": "4sDlo8Qe5ajN"
   },
   "source": [
    "#### Top combinations for Valence"
   ]
  },
  {
   "cell_type": "code",
   "execution_count": null,
   "metadata": {
    "colab": {
     "base_uri": "https://localhost:8080/",
     "height": 493
    },
    "id": "wNa-HXUCsRka",
    "outputId": "2c712fde-fd4b-42ae-ceda-e6f400865bc4"
   },
   "outputs": [],
   "source": [
    "plot_cm('theta', 'central', 'valence', 'knn')"
   ]
  },
  {
   "cell_type": "code",
   "execution_count": null,
   "metadata": {
    "colab": {
     "base_uri": "https://localhost:8080/",
     "height": 493
    },
    "id": "W1E0jYbun33I",
    "outputId": "031e2755-530a-4a17-a644-efd75187198f"
   },
   "outputs": [],
   "source": [
    "plot_cm('beta', 'left', 'valence', 'knn')"
   ]
  },
  {
   "cell_type": "code",
   "execution_count": null,
   "metadata": {
    "colab": {
     "base_uri": "https://localhost:8080/",
     "height": 493
    },
    "id": "BFmooDTooPAK",
    "outputId": "d2c25449-9db7-4967-8146-a90586d0f353"
   },
   "outputs": [],
   "source": [
    "plot_cm('gamma', 'right', 'valence', 'knn')"
   ]
  },
  {
   "cell_type": "markdown",
   "metadata": {
    "id": "3ett55kG5krG"
   },
   "source": [
    "#### Top combinations for Arousal"
   ]
  },
  {
   "cell_type": "code",
   "execution_count": null,
   "metadata": {
    "colab": {
     "base_uri": "https://localhost:8080/",
     "height": 493
    },
    "id": "4ZMYZN_CskYA",
    "outputId": "91e8a872-2dd7-418d-ebaa-728132611450"
   },
   "outputs": [],
   "source": [
    "plot_cm('alpha', 'central', 'arousal', 'mlp')"
   ]
  },
  {
   "cell_type": "code",
   "execution_count": null,
   "metadata": {
    "colab": {
     "base_uri": "https://localhost:8080/",
     "height": 493
    },
    "id": "pnYfcidcML5Y",
    "outputId": "9681bc9f-1cd8-4107-8d9a-b59751ab4d6f"
   },
   "outputs": [],
   "source": [
    "plot_cm('theta', 'parietal', 'arousal', 'mlp')"
   ]
  }
 ],
 "metadata": {
  "colab": {
   "collapsed_sections": [
    "o_aflOWKGbi6",
    "44LeXIJKwFZQ",
    "MbR-yzBmklEv",
    "EMULqzxuv5rG",
    "qJuZ48FormXW",
    "PQL4IVupDmQg",
    "bSIWwDsNHauz",
    "AwdusXNJGfqg",
    "IO2bKkvRGx6-",
    "gS3uZ_ADGdkm",
    "VFh9c8v5IoM9",
    "XBF3IrqHMRn9",
    "XCq7PAqOMAej",
    "Ubyhu_2QpF3h",
    "UDyMmKX6e3wl",
    "UT6wjhN-Z_eY",
    "3M5NAOt2cnsK",
    "hdjUxI0hdi0v",
    "wN4162ixeK9w",
    "eQlRP4LrOMlk",
    "n1qYAemsZVGI",
    "rJGy_VeJMRbc",
    "aZkugf5yMbfG",
    "TAIvhiHIMfZK",
    "yOuzoYWn_4wj",
    "Qu8s_8E4Lq6X",
    "uHawo_dHLyUB",
    "icTQXIOKi3OI",
    "-gyBySB0i3OJ",
    "NrxRO1B94cRL"
   ],
   "name": "eeg-based-emotion-classification.ipynb",
   "provenance": []
  },
  "kernelspec": {
   "display_name": "Python 3 (ipykernel)",
   "language": "python",
   "name": "python3"
  },
  "language_info": {
   "codemirror_mode": {
    "name": "ipython",
    "version": 3
   },
   "file_extension": ".py",
   "mimetype": "text/x-python",
   "name": "python",
   "nbconvert_exporter": "python",
   "pygments_lexer": "ipython3",
   "version": "3.9.12"
  }
 },
 "nbformat": 4,
 "nbformat_minor": 1
}
