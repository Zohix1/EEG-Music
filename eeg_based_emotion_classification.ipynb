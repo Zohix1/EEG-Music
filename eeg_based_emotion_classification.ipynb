{
 "cells": [
  {
   "cell_type": "markdown",
   "metadata": {
    "id": "VAW69IHlipWq"
   },
   "source": [
    "**References:** \n",
    "\n",
    "1. [DEAP: A Database for Emotion Analysis using Physiological Signals](https://www.eecs.qmul.ac.uk/mmv/datasets/deap/doc/tac_special_issue_2011.pdf)\n",
    "\n",
    "2. [Online Prediction of Driver Distraction Based on Brain Activity Patterns](https://www.researchgate.net/publication/267154789_Online_Prediction_of_Driver_Distraction_Based_on_Brain_Activity_Patterns)\n",
    "\n",
    "3. [Emotion Recognition with Machine Learning Using EEG Signals](https://arxiv.org/pdf/1903.07272.pdf)\n",
    "\n",
    "4. [EEG Correlates of Different Emotional States Elicited during Watching Music Videos](https://www.researchgate.net/publication/221622214_EEG_Correlates_of_Different_Emotional_States_Elicited_during_Watching_Music_Videos)\n",
    "\n",
    "5. [The Effect of Transcranial Magnetic Stimulation on Brain Electrical Activity](https://www.researchgate.net/publication/267811728_THE_EFFECT_OF_TRANSCRANIAL_MAGNETIC_STIMULATION_ON_BRAIN_BIOELECTRICAL_ACTIVITY)"
   ]
  },
  {
   "cell_type": "markdown",
   "metadata": {
    "id": "fjrx_Svjz4i4"
   },
   "source": [
    "**Original dataset:** \n",
    "\n",
    "The dataset is mounted from our Google Drive and could be downloaded [here](https://www.eecs.qmul.ac.uk/mmv/datasets/deap/download.html). "
   ]
  },
  {
   "cell_type": "code",
   "execution_count": null,
   "metadata": {
    "colab": {
     "base_uri": "https://localhost:8080/"
    },
    "id": "5EU9Oy3Xp3yb",
    "outputId": "9c7a7a59-6c4e-4823-9dc2-379d0ed5ff2c",
    "is_executing": true
   },
   "outputs": [],
   "source": [
    "import time\n",
    "import pickle\n",
    "import pandas as pd\n",
    "import numpy as np\n",
    "from scipy.signal import welch\n",
    "from scipy.integrate import simps\n",
    "\n",
    "from sklearn.model_selection import train_test_split\n",
    "from sklearn.preprocessing import StandardScaler\n",
    "from sklearn.svm import SVC\n",
    "from sklearn.neighbors import KNeighborsClassifier\n",
    "from sklearn.neural_network import MLPClassifier\n",
    "from sklearn import model_selection\n",
    "from sklearn.metrics import classification_report, confusion_matrix\n",
    "import itertools\n",
    "from sklearn.metrics import accuracy_score\n",
    "from sklearn.metrics import f1_score\n",
    "import matplotlib.pyplot as plt"
   ]
  },
  {
   "cell_type": "markdown",
   "metadata": {
    "id": "o_aflOWKGbi6"
   },
   "source": [
    "# Load dataset\n",
    "The EEG and peripheral physiological signals of 32 participants were recorded as each watched 40 music videos. Participants rated each video in terms of the levels of arousal, valence, dominance, and liking. The data was downsampled (to 128Hz), preprocessed and segmented in pickled Python formats."
   ]
  },
  {
   "cell_type": "code",
   "execution_count": null,
   "metadata": {
    "id": "nvA40VzlLpvj",
    "is_executing": true
   },
   "outputs": [],
   "source": [
    "# Function to load data from each participant file\n",
    "def read_eeg_signal_from_file(filename):\n",
    "    x = pickle._Unpickler(open(filename, 'rb'))\n",
    "    x.encoding = 'latin1'\n",
    "    p = x.load()\n",
    "    return p"
   ]
  },
  {
   "cell_type": "code",
   "execution_count": null,
   "metadata": {
    "colab": {
     "base_uri": "https://localhost:8080/"
    },
    "id": "xXtdo39GnE74",
    "outputId": "22b5a4d3-38da-4a40-a8dd-b20dec5d94f6",
    "is_executing": true
   },
   "outputs": [],
   "source": [
    "# Load only 22/32 participants with frontal videos recorded\n",
    "files = []\n",
    "for n in range(1, 23): \n",
    "    s = ''\n",
    "    if n < 10:\n",
    "        s += '0'\n",
    "    s += str(n)\n",
    "    files.append(s)"
   ]
  },
  {
   "cell_type": "code",
   "execution_count": null,
   "metadata": {
    "id": "_-88ra8rMgLu",
    "is_executing": true
   },
   "outputs": [],
   "source": [
    "# 22x40 = 880 trials for 22 participants\n",
    "labels = []\n",
    "data = []\n",
    "\n",
    "for i in files: \n",
    "  filename = \"./eeg_data/s\" + i + \".dat\"\n",
    "  trial = read_eeg_signal_from_file(filename)\n",
    "  labels.append(trial['labels'])\n",
    "  data.append(trial['data'])\n",
    "\n",
    "# Re-shape arrays into desired shapes\n",
    "labels = np.array(labels)\n",
    "labels = labels.flatten()\n",
    "labels = labels.reshape(880, 4)"
   ]
  },
  {
   "cell_type": "code",
   "execution_count": null,
   "outputs": [],
   "source": [
    "data = np.array(data)\n",
    "data = data.flatten()\n",
    "data = data.reshape(880, 40, 8064)"
   ],
   "metadata": {
    "collapsed": false,
    "is_executing": true
   }
  },
  {
   "cell_type": "markdown",
   "metadata": {
    "id": "HbF8zptv1vNb"
   },
   "source": [
    "# Explore and pre-process data"
   ]
  },
  {
   "cell_type": "markdown",
   "metadata": {
    "id": "213JmBn3LpQW"
   },
   "source": [
    "## Labels"
   ]
  },
  {
   "cell_type": "markdown",
   "metadata": {
    "id": "44LeXIJKwFZQ"
   },
   "source": [
    "#### Get Valence and Arousal ratings\n",
    "Valence describes the extent to which an emotion is positive or negative, whereas Arousal refers to its intensity, i.e., the strength of the associated emotional state."
   ]
  },
  {
   "cell_type": "markdown",
   "metadata": {
    "id": "MbR-yzBmklEv"
   },
   "source": [
    "#### Check positive/negative cases\n",
    "\n",
    "The combinations of Valence and Arousal can be converted to emotional states: High Arousal Positive Valence (Excited, Happy), Low Arousal Positive Valence (Calm, Relaxed), High Arousal Negative Valence (Angry, Nervous), and Low Arousal Negative Valence (Sad, Bored)."
   ]
  },
  {
   "cell_type": "markdown",
   "metadata": {
    "id": "EMULqzxuv5rG"
   },
   "source": [
    "#### One hot encoding"
   ]
  },
  {
   "cell_type": "code",
   "execution_count": null,
   "metadata": {
    "id": "ODyfQxmdkHph",
    "is_executing": true
   },
   "outputs": [],
   "source": [
    "# Function to check if each trial has positive or negative valence\n",
    "def positive_valence(trial):\n",
    "    return 1 if labels[trial,0] >= np.median(labels[:,0]) else 0 \n",
    "# Function to check if each trial has high or low arousal\n",
    "def high_arousal(trial):\n",
    "    return 1 if labels[trial,1] >= np.median(labels[:,1]) else 0"
   ]
  },
  {
   "cell_type": "code",
   "execution_count": null,
   "metadata": {
    "colab": {
     "base_uri": "https://localhost:8080/"
    },
    "id": "g9J20dcmwWAs",
    "outputId": "80904415-c4eb-44ec-d85d-dd8cf0ef3822",
    "is_executing": true
   },
   "outputs": [],
   "source": [
    "# Convert all ratings to boolean values\n",
    "labels_encoded = []\n",
    "for i in range (len(labels)):\n",
    "  labels_encoded.append([positive_valence(i), high_arousal(i)])\n",
    "labels_encoded = np.reshape(labels_encoded, (880, 2))\n",
    "df_labels = pd.DataFrame(data=labels_encoded, columns=[\"Positive Valence\", \"High Arousal\"])"
   ]
  },
  {
   "cell_type": "code",
   "execution_count": null,
   "metadata": {
    "id": "4DWLd5HRnokl",
    "is_executing": true
   },
   "outputs": [],
   "source": [
    "# Dataset with only Valence column\n",
    "df_valence = df_labels['Positive Valence']\n",
    "# Dataset with only Arousal column\n",
    "df_arousal = df_labels['High Arousal']"
   ]
  },
  {
   "cell_type": "markdown",
   "metadata": {
    "id": "waFpwzunvEl_"
   },
   "source": [
    "## EEG data"
   ]
  },
  {
   "cell_type": "markdown",
   "metadata": {
    "id": "qJuZ48FormXW"
   },
   "source": [
    "### Separate EEG and non-EEG data\n",
    "\n",
    "The dataset includes 32 EEG channels and 8 peripheral physiological channels. The peripheral signals include: electrooculogram (EOG), electromyograms (EMG) of Zygomaticus and Trapezius muscles, GSR, respiration amplitude, blood volume by plethysmograph, skin temperature."
   ]
  },
  {
   "cell_type": "code",
   "execution_count": null,
   "metadata": {
    "id": "6szil8NKrgCC",
    "is_executing": true
   },
   "outputs": [],
   "source": [
    "eeg_channels = np.array([\"Fp1\", \"AF3\", \"F3\", \"F7\", \"FC5\", \"FC1\", \"C3\", \"T7\", \"CP5\", \"CP1\", \"P3\", \"P7\", \"PO3\", \"O1\", \"Oz\", \"Pz\", \"Fp2\", \"AF4\", \"Fz\", \"F4\", \"F8\", \"FC6\", \"FC2\", \"Cz\", \"C4\", \"T8\", \"CP6\", \"CP2\", \"P4\", \"P8\", \"PO4\", \"O2\"])\n",
    "eeg_data = []\n",
    "for i in range (len(data)):\n",
    "  for j in range (len(eeg_channels)):\n",
    "    eeg_data.append(data[i,j])\n",
    "eeg_data = np.reshape(eeg_data, (len(data), len(eeg_channels), len(data[0,0])))"
   ]
  },
  {
   "cell_type": "markdown",
   "metadata": {
    "id": "PQL4IVupDmQg"
   },
   "source": [
    "### Welch's feature extraction\n",
    "\n",
    "For the EEG data, we use Welch's method to extract theta, alpha, beta, and gamma spectral\n",
    "power for each electrode. The frequency bands used:\n",
    "theta (4 - 8 Hz), alpha (8 - 12 Hz), beta (12 - 30 Hz),\n",
    "and gamma (30 - 64 Hz)."
   ]
  },
  {
   "cell_type": "markdown",
   "metadata": {
    "id": "gS3uZ_ADGdkm"
   },
   "source": [
    "#### Gamma band power"
   ]
  },
  {
   "cell_type": "markdown",
   "metadata": {
    "id": "VFh9c8v5IoM9"
   },
   "source": [
    "#### Functions to get band power values"
   ]
  },
  {
   "cell_type": "code",
   "execution_count": null,
   "metadata": {
    "id": "z1ZQs2q3Hnno",
    "is_executing": true
   },
   "outputs": [],
   "source": [
    "\"\"\"Compute the average power of the signal x in a specific frequency band.\n",
    "\n",
    "    Parameters\n",
    "    ----------\n",
    "    data : 1d-array\n",
    "        Input signal in the time-domain.\n",
    "    sf : float\n",
    "        Sampling frequency of the data.\n",
    "    band : list\n",
    "        Lower and upper frequencies of the band of interest.\n",
    "    window_sec : float\n",
    "        Length of each window in seconds.\n",
    "        If None, window_sec = (1 / min(band)) * 2\n",
    "    relative : boolean\n",
    "        If True, return the relative power (= divided by the total power of the signal).\n",
    "        If False (default), return the absolute power.\n",
    "\n",
    "    Return\n",
    "    ------\n",
    "    bp : float\n",
    "        Absolute or relative band power.\n",
    "    \"\"\"\n",
    "def bandpower(data, sf, band, window_sec=None, relative=False):\n",
    "    band = np.asarray(band)\n",
    "    low, high = band\n",
    "\n",
    "    # Define window length\n",
    "    if window_sec is not None:\n",
    "        nperseg = window_sec * sf\n",
    "    else:\n",
    "        nperseg = (2 / low) * sf\n",
    "\n",
    "    # Compute the modified periodogram (Welch)\n",
    "    freqs, psd = welch(data, sf, nperseg=nperseg)\n",
    "\n",
    "    # Frequency resolution\n",
    "    freq_res = freqs[1] - freqs[0]\n",
    "\n",
    "    # Find closest indices of band in frequency vector\n",
    "    idx_band = np.logical_and(freqs >= low, freqs <= high)\n",
    "\n",
    "    # Integral approximation of the spectrum using Simpson's rule.\n",
    "    bp = simps(psd[idx_band], dx=freq_res)\n",
    "\n",
    "    if relative:\n",
    "        bp /= simps(psd, dx=freq_res)\n",
    "    return bp\n",
    "def get_band_power(trial, channel, band):\n",
    "  bd = (0,0)\n",
    "\n",
    "  if band == \"theta\": # drownsiness, emotional connection, intuition, creativity\n",
    "    bd = (4,8)\n",
    "  elif band == \"alpha\": # reflection, relaxation\n",
    "    bd = (8,12)\n",
    "  elif band == \"beta\": # concentration, problem solving, memory\n",
    "    bd = (12,30)\n",
    "  elif band == \"gamma\": # cognition, perception, learning, multi-tasking\n",
    "    bd = (30,64)\n",
    "  \n",
    "  return bandpower(eeg_data[trial,channel], 128, bd)"
   ]
  },
  {
   "cell_type": "markdown",
   "metadata": {
    "id": "Vm_iTpEy_LJy"
   },
   "source": [
    "### Process new datasets with 6 EEG regions and 4 band power values"
   ]
  },
  {
   "cell_type": "code",
   "execution_count": null,
   "metadata": {
    "id": "uPAKkeLoX1m-",
    "is_executing": true
   },
   "outputs": [],
   "source": [
    "# Transform 880 x 32 x 8064 => 880 x 128\n",
    "eeg_band_arr = []\n",
    "for i in range (len(eeg_data)):\n",
    "  for j in range (len(eeg_data[0])):\n",
    "    eeg_band_arr.append(get_band_power(i,j,\"theta\"))\n",
    "    eeg_band_arr.append(get_band_power(i,j,\"alpha\"))\n",
    "    eeg_band_arr.append(get_band_power(i,j,\"beta\"))\n",
    "    eeg_band_arr.append(get_band_power(i,j,\"gamma\"))\n",
    "eeg_band_arr = np.reshape(eeg_band_arr, (880, 128))"
   ]
  },
  {
   "cell_type": "markdown",
   "metadata": {
    "id": "2pUbENit2g6K"
   },
   "source": [
    "EEG channels are divided into 6 groups, according to their cerebral spatial locations. We combine the temmporal-left and temporal-right channels into the left and right groups. The frontal group only includes the fronto-central channels. All centro-parietal channels are included in the central group."
   ]
  },
  {
   "cell_type": "code",
   "execution_count": null,
   "metadata": {
    "id": "eUinxvZMnN6m",
    "is_executing": true
   },
   "outputs": [],
   "source": [
    "left = np.array([\"Fp1\", \"AF3\", \"F7\", \"FC5\", \"T7\"])\n",
    "right = np.array([\"Fp2\", \"AF4\", \"F8\", \"FC6\", \"T8\"])\n",
    "frontal = np.array([\"F3\", \"FC1\", \"Fz\", \"F4\", \"FC2\"])\n",
    "parietal = np.array([\"P3\", \"P7\", \"Pz\", \"P4\", \"P8\"])\n",
    "occipital = np.array([\"O1\", \"Oz\", \"O2\", \"PO3\", \"PO4\"])\n",
    "central = np.array([\"CP5\", \"CP1\", \"Cz\", \"C4\", \"C3\", \"CP6\", \"CP2\"])"
   ]
  },
  {
   "cell_type": "markdown",
   "metadata": {
    "id": "UT6wjhN-Z_eY"
   },
   "source": [
    "#### Dataframe for Theta power values"
   ]
  },
  {
   "cell_type": "code",
   "execution_count": null,
   "metadata": {
    "colab": {
     "base_uri": "https://localhost:8080/"
    },
    "id": "zfSLIKTWaD8l",
    "outputId": "733364e1-69b4-4b2b-dfab-d6fda511ebc3",
    "is_executing": true
   },
   "outputs": [],
   "source": [
    "# Transform 880 x 32 x 8064 => 880 x 32 \n",
    "eeg_theta = []\n",
    "for i in range (len(eeg_data)):\n",
    "  for j in range (len(eeg_data[0])):\n",
    "    eeg_theta.append(get_band_power(i,j,\"theta\"))\n",
    "eeg_theta = np.reshape(eeg_theta, (880, 32))\n",
    "\n",
    "df_theta = pd.DataFrame(data = eeg_theta, columns=eeg_channels)"
   ]
  },
  {
   "cell_type": "markdown",
   "metadata": {
    "id": "3M5NAOt2cnsK"
   },
   "source": [
    "#### Dataframe for Alpha power values"
   ]
  },
  {
   "cell_type": "code",
   "execution_count": null,
   "metadata": {
    "colab": {
     "base_uri": "https://localhost:8080/"
    },
    "id": "AE0PyVhqcnsO",
    "outputId": "c65861d6-0b5d-4e73-c4d4-1b163e511837",
    "is_executing": true
   },
   "outputs": [],
   "source": [
    "# Transform 880 x 32 x 8064 => 880 x 32 \n",
    "eeg_alpha = []\n",
    "for i in range (len(eeg_data)):\n",
    "  for j in range (len(eeg_data[0])):\n",
    "    eeg_alpha.append(get_band_power(i,j,\"alpha\"))\n",
    "eeg_alpha = np.reshape(eeg_alpha, (880, 32))\n",
    "\n",
    "df_alpha = pd.DataFrame(data = eeg_alpha, columns=eeg_channels)"
   ]
  },
  {
   "cell_type": "markdown",
   "metadata": {
    "id": "hdjUxI0hdi0v"
   },
   "source": [
    "#### Dataframe for Beta power values"
   ]
  },
  {
   "cell_type": "code",
   "execution_count": null,
   "metadata": {
    "colab": {
     "base_uri": "https://localhost:8080/"
    },
    "id": "ppP9mP-odi06",
    "outputId": "7918660d-c893-4c91-bbdc-df2cef4a4696",
    "is_executing": true
   },
   "outputs": [],
   "source": [
    "# Transform 880 x 32 x 8064 => 880 x 32 \n",
    "eeg_beta = []\n",
    "for i in range (len(eeg_data)):\n",
    "  for j in range (len(eeg_data[0])):\n",
    "    eeg_beta.append(get_band_power(i,j,\"beta\"))\n",
    "eeg_beta = np.reshape(eeg_beta, (880, 32))\n",
    "\n",
    "df_beta = pd.DataFrame(data = eeg_beta, columns=eeg_channels)"
   ]
  },
  {
   "cell_type": "markdown",
   "metadata": {
    "id": "wN4162ixeK9w"
   },
   "source": [
    "#### Dataframe for Gamma power values"
   ]
  },
  {
   "cell_type": "code",
   "execution_count": null,
   "metadata": {
    "colab": {
     "base_uri": "https://localhost:8080/"
    },
    "id": "SrkOeQvheK90",
    "outputId": "2e332e68-57b3-48ab-eab9-5d23b03fdcc9",
    "is_executing": true
   },
   "outputs": [],
   "source": [
    "# Transform 880 x 32 x 8064 => 880 x 32 \n",
    "eeg_gamma = []\n",
    "for i in range (len(eeg_data)):\n",
    "  for j in range (len(eeg_data[0])):\n",
    "    eeg_gamma.append(get_band_power(i,j,\"gamma\"))\n",
    "eeg_gamma = np.reshape(eeg_gamma, (880, 32))\n",
    "\n",
    "df_gamma = pd.DataFrame(data = eeg_gamma, columns=eeg_channels)"
   ]
  },
  {
   "cell_type": "markdown",
   "metadata": {
    "id": "eQlRP4LrOMlk"
   },
   "source": [
    "# Train-test split and feature scaling"
   ]
  },
  {
   "cell_type": "code",
   "execution_count": null,
   "metadata": {
    "id": "Wmoxv3CbaGTL",
    "is_executing": true
   },
   "outputs": [],
   "source": [
    "# Split the data into training/testing sets\n",
    "def split_train_test(x, y):\n",
    "  x_train, x_test, y_train, y_test = train_test_split(x, y, test_size=0.30, random_state=42)\n",
    "  return x_train, x_test, y_train, y_test"
   ]
  },
  {
   "cell_type": "code",
   "execution_count": null,
   "metadata": {
    "id": "Jk7-M20caZ6r",
    "is_executing": true
   },
   "outputs": [],
   "source": [
    "# Feature scaling\n",
    "def feature_scaling(train, test):\n",
    "  sc = StandardScaler()\n",
    "  train = sc.fit_transform(train)\n",
    "  test = sc.transform(test)\n",
    "  return train, test"
   ]
  },
  {
   "cell_type": "markdown",
   "metadata": {
    "id": "CbCztoUDVgmR"
   },
   "source": [
    "# Cross-validation to select classifier"
   ]
  },
  {
   "cell_type": "code",
   "execution_count": null,
   "metadata": {
    "id": "oPxDs36P6IGn",
    "is_executing": true
   },
   "outputs": [],
   "source": [
    "band_names = np.array([\"theta\", \"alpha\", \"beta\", \"gamma\"])\n",
    "channel_names = np.array([\"left\", \"frontal\", \"right\", \"central\", \"parietal\", \"occipital\"])\n",
    "label_names = np.array([\"valence\", \"arousal\"])\n",
    "\n",
    "# Testing different kernels (linear, sigmoid, rbf, poly) to select the most optimal one\n",
    "clf_svm = SVC(kernel='linear', random_state=42, probability=True)\n",
    "\n",
    "# Testing different k (odd) numbers, algorithm (auto, ball_tree, kd_tree) and weight (uniform, distance) to select the most optimal one\n",
    "clf_knn = KNeighborsClassifier(n_neighbors=5, weights='distance', algorithm='auto')\n",
    "\n",
    "# Testing different learning rate (alpha), solver (adam, sgd, lbfgs) and activation (relu, tanh, logistic) to select the most optimal one\n",
    "clf_mlp = MLPClassifier(solver='adam', activation='tanh', alpha=0.3, max_iter=400)\n",
    "\n",
    "models = []\n",
    "models.append(('SVM', clf_svm))\n",
    "models.append(('k-NN', clf_knn))\n",
    "models.append(('MLP', clf_mlp))\n",
    "\n",
    "\n",
    "def cross_validate_clf(df_x, df_y, scoring):\n",
    "    # Train-test split\n",
    "    x_train, x_test, y_train, y_test = split_train_test(df_x, df_y)\n",
    "    # Feature scaling\n",
    "    x_train, x_test = feature_scaling(x_train, x_test)\n",
    "\n",
    "    names = []\n",
    "    means = []\n",
    "    stds = []\n",
    "    times = []\n",
    "\n",
    "    # Apply CV\n",
    "    for name, model in models:\n",
    "        start_time = time.time()\n",
    "        kfold = model_selection.KFold(n_splits=5)\n",
    "        cv_results = model_selection.cross_val_score(model, x_train, y_train, cv=kfold, scoring=scoring)\n",
    "        t = (time.time() - start_time)\n",
    "        times.append(t)\n",
    "        means.append(cv_results.mean())\n",
    "        stds.append(cv_results.std())\n",
    "        names.append(name)\n",
    "\n",
    "    return names, means, stds, times\n",
    "\n",
    "\n",
    "cross_validate_clf(eeg_band_arr, df_arousal, 'accuracy')\n",
    "cross_validate_clf(eeg_band_arr, df_arousal, 'f1')"
   ]
  },
  {
   "cell_type": "markdown",
   "metadata": {
    "id": "yOuzoYWn_4wj"
   },
   "source": [
    "## Functions to run classifiers"
   ]
  },
  {
   "cell_type": "code",
   "execution_count": null,
   "outputs": [],
   "source": [
    "def run_clf_cv(band, channel, label, clf):\n",
    "  if band == \"theta\":\n",
    "    df_x = df_theta\n",
    "  elif band == \"alpha\":\n",
    "    df_x = df_alpha\n",
    "  elif band == \"beta\":\n",
    "    df_x = df_beta\n",
    "  elif band == \"gamma\":\n",
    "    df_x = df_gamma\n",
    "\n",
    "  if channel == \"left\":\n",
    "    df_x = df_x[left]\n",
    "  elif channel == \"right\":\n",
    "    df_x = df_x[right]\n",
    "  elif channel == \"frontal\":\n",
    "    df_x = df_x[frontal]\n",
    "  elif channel == \"central\":\n",
    "    df_x = df_x[central]\n",
    "  elif channel == \"parietal\":\n",
    "    df_x = df_x[parietal]\n",
    "  elif channel == \"occipital\":\n",
    "    df_x = df_x[occipital]\n",
    "\n",
    "  df_y = df_arousal if (label == \"arousal\") else df_valence\n",
    "\n",
    "  # Train-test split\n",
    "  x_train, x_test, y_train, y_test = split_train_test(df_x, df_y)\n",
    "  \n",
    "  # Apply CV\n",
    "  x_for_kfold = np.array(x_train)            \n",
    "  y_for_kfold = np.array(y_train)\n",
    "  kfold = model_selection.KFold(n_splits=5)\n",
    "\n",
    "  for i, j in kfold.split(x_for_kfold):\n",
    "   x_train2, x_test2 = x_for_kfold[i], x_for_kfold[j]\n",
    "   y_train2, y_test2 = y_for_kfold[i], y_for_kfold[j]\n",
    "  \n",
    "  # Feature scaling\n",
    "  x_train2, x_test2 = feature_scaling(x_train2, x_test2)\n",
    "\n",
    "  if clf == \"svm\":\n",
    "    clf_svm.fit(x_train2, y_train2)\n",
    "    y_predict = clf_svm.predict(x_test2)\n",
    "  elif clf == \"knn\":\n",
    "    clf_knn.fit(x_train2, y_train2)\n",
    "    y_predict = clf_knn.predict(x_test2)\n",
    "  elif clf == \"mlp\":\n",
    "    clf_mlp.fit(x_train2, y_train2)\n",
    "    y_predict = clf_mlp.predict(x_test2)\n",
    "\n",
    "  return y_test2, y_predict"
   ],
   "metadata": {
    "collapsed": false,
    "is_executing": true
   }
  },
  {
   "cell_type": "code",
   "execution_count": null,
   "metadata": {
    "id": "kNIJkN5dlhi2",
    "is_executing": true
   },
   "outputs": [],
   "source": [
    "def get_accuracy(band, channel, label, clf):\n",
    "  y_test2, y_predict = run_clf_cv(band, channel, label, clf)\n",
    "  return np.round(accuracy_score(y_test2, y_predict)*100,2)"
   ]
  },
  {
   "cell_type": "code",
   "execution_count": null,
   "metadata": {
    "id": "iJuy1ANE_EJZ",
    "is_executing": true
   },
   "outputs": [],
   "source": [
    "def print_accuracy(label, clf):\n",
    "  arr = []\n",
    "  for i in range (len(band_names)):\n",
    "    for j in range (len(channel_names)): \n",
    "      arr.append(get_accuracy(band_names[i], channel_names[j], label, clf))\n",
    "  arr = np.reshape(arr, (4,6))\n",
    "  df = pd.DataFrame(data = arr, index=band_names, columns=channel_names)\n",
    "\n",
    "  print(\"Top 3 EEG regions with highest scores\")\n",
    "  print(df.apply(lambda s: s.abs()).max().nlargest(3))\n",
    "  print()\n",
    "  print(\"Top 2 bands with highest scores\")\n",
    "  print(df.apply(lambda s: s.abs()).max(axis=1).nlargest(2))\n",
    "  print()\n",
    "  print(\"EEG region with highest scores per each band\")\n",
    "  print(df.idxmax(axis=1))\n",
    "  print()\n",
    "  print(\"Band with highest scores per each EEG region\")\n",
    "  print(df.idxmax())\n",
    "  print()\n",
    "  print(df)"
   ]
  },
  {
   "cell_type": "code",
   "execution_count": null,
   "metadata": {
    "id": "HEw2OqPSi3OI",
    "is_executing": true
   },
   "outputs": [],
   "source": [
    "def get_f1(band, channel, label, clf):\n",
    "  y_test2, y_predict = run_clf_cv(band, channel, label, clf)\n",
    "  return np.round(f1_score(y_test2, y_predict)*100,2)"
   ]
  },
  {
   "cell_type": "code",
   "execution_count": null,
   "metadata": {
    "id": "VJRPq7NNi3OI",
    "is_executing": true
   },
   "outputs": [],
   "source": [
    "def print_f1(label, clf):\n",
    "  arr = []\n",
    "  for i in range (len(band_names)):\n",
    "    for j in range (len(channel_names)): \n",
    "      arr.append(get_f1(band_names[i], channel_names[j], label, clf))\n",
    "  arr = np.reshape(arr, (4,6))\n",
    "  df = pd.DataFrame(data = arr, index=band_names, columns=channel_names)\n",
    "\n",
    "  print(\"Top 3 EEG regions with highest scores\")\n",
    "  print(df.apply(lambda s: s.abs()).max().nlargest(3))\n",
    "  print()\n",
    "  print(\"Top 2 bands with highest scores\")\n",
    "  print(df.apply(lambda s: s.abs()).max(axis=1).nlargest(2))\n",
    "  print()\n",
    "  print(\"EEG region with highest scores per each band\")\n",
    "  print(df.idxmax(axis=1))\n",
    "  print()\n",
    "  print(\"Band with highest scores per each EEG regions\")\n",
    "  print(df.idxmax())\n",
    "  print()\n",
    "  print(df)"
   ]
  },
  {
   "cell_type": "code",
   "execution_count": null,
   "metadata": {
    "id": "8Ejnm0aSnORY",
    "is_executing": true
   },
   "outputs": [],
   "source": [
    "def plot_cm(band, channel, label, clf):\n",
    "  y_test2, y_predict = run_clf_cv(band, channel, label, clf)\n",
    "  cm = confusion_matrix(y_test2, y_predict)\n",
    "  print(cm)\n",
    "  cr = classification_report(y_test2, y_predict)\n",
    "  print(cr)\n",
    "\n",
    "  plt.figure()\n",
    "  plt.imshow(cm, interpolation='nearest', cmap=plt.cm.Blues)\n",
    "  plt.colorbar()\n",
    "\n",
    "  if label == \"valence\":\n",
    "    classes = df_valence.unique().tolist()\n",
    "  if label == \"arousal\":\n",
    "    classes = df_arousal.unique().tolist()\n",
    "\n",
    "  tick_marks = np.arange(len(classes))\n",
    "  plt.xticks(tick_marks, classes, rotation=45)\n",
    "  plt.yticks(tick_marks, classes)\n",
    "\n",
    "  thresh = cm.max() / 2.\n",
    "  for i, j in itertools.product(range(cm.shape[0]), range(cm.shape[1])):\n",
    "      plt.text(j, i, format(cm[i, j], 'd'),\n",
    "               horizontalalignment=\"center\",\n",
    "               color=\"white\" if cm[i, j] > thresh else \"black\")\n",
    "\n",
    "  plt.tight_layout()\n",
    "  plt.ylabel('True label')\n",
    "  plt.xlabel('Predicted label')\n"
   ]
  }
 ],
 "metadata": {
  "colab": {
   "collapsed_sections": [
    "o_aflOWKGbi6",
    "44LeXIJKwFZQ",
    "MbR-yzBmklEv",
    "EMULqzxuv5rG",
    "qJuZ48FormXW",
    "PQL4IVupDmQg",
    "bSIWwDsNHauz",
    "AwdusXNJGfqg",
    "IO2bKkvRGx6-",
    "gS3uZ_ADGdkm",
    "VFh9c8v5IoM9",
    "XBF3IrqHMRn9",
    "XCq7PAqOMAej",
    "Ubyhu_2QpF3h",
    "UDyMmKX6e3wl",
    "UT6wjhN-Z_eY",
    "3M5NAOt2cnsK",
    "hdjUxI0hdi0v",
    "wN4162ixeK9w",
    "eQlRP4LrOMlk",
    "n1qYAemsZVGI",
    "rJGy_VeJMRbc",
    "aZkugf5yMbfG",
    "TAIvhiHIMfZK",
    "yOuzoYWn_4wj",
    "Qu8s_8E4Lq6X",
    "uHawo_dHLyUB",
    "icTQXIOKi3OI",
    "-gyBySB0i3OJ",
    "NrxRO1B94cRL"
   ],
   "name": "eeg-based-emotion-classification.ipynb",
   "provenance": []
  },
  "kernelspec": {
   "display_name": "Python 3 (ipykernel)",
   "language": "python",
   "name": "python3"
  },
  "language_info": {
   "codemirror_mode": {
    "name": "ipython",
    "version": 3
   },
   "file_extension": ".py",
   "mimetype": "text/x-python",
   "name": "python",
   "nbconvert_exporter": "python",
   "pygments_lexer": "ipython3",
   "version": "3.9.12"
  }
 },
 "nbformat": 4,
 "nbformat_minor": 1
}
