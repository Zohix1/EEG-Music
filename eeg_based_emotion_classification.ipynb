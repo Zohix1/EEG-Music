{
 "cells": [
  {
   "cell_type": "markdown",
   "metadata": {
    "id": "VAW69IHlipWq"
   },
   "source": [
    "**References:** \n",
    "\n",
    "1. [DEAP: A Database for Emotion Analysis using Physiological Signals](https://www.eecs.qmul.ac.uk/mmv/datasets/deap/doc/tac_special_issue_2011.pdf)\n",
    "\n",
    "2. [Online Prediction of Driver Distraction Based on Brain Activity Patterns](https://www.researchgate.net/publication/267154789_Online_Prediction_of_Driver_Distraction_Based_on_Brain_Activity_Patterns)\n",
    "\n",
    "3. [Emotion Recognition with Machine Learning Using EEG Signals](https://arxiv.org/pdf/1903.07272.pdf)\n",
    "\n",
    "4. [EEG Correlates of Different Emotional States Elicited during Watching Music Videos](https://www.researchgate.net/publication/221622214_EEG_Correlates_of_Different_Emotional_States_Elicited_during_Watching_Music_Videos)\n",
    "\n",
    "5. [The Effect of Transcranial Magnetic Stimulation on Brain Electrical Activity](https://www.researchgate.net/publication/267811728_THE_EFFECT_OF_TRANSCRANIAL_MAGNETIC_STIMULATION_ON_BRAIN_BIOELECTRICAL_ACTIVITY)"
   ]
  },
  {
   "cell_type": "markdown",
   "metadata": {
    "id": "fjrx_Svjz4i4"
   },
   "source": [
    "**Original dataset:** \n",
    "\n",
    "The dataset is mounted from our Google Drive and could be downloaded [here](https://www.eecs.qmul.ac.uk/mmv/datasets/deap/download.html). "
   ]
  },
  {
   "cell_type": "code",
   "execution_count": 1,
   "metadata": {
    "colab": {
     "base_uri": "https://localhost:8080/"
    },
    "id": "5EU9Oy3Xp3yb",
    "outputId": "9c7a7a59-6c4e-4823-9dc2-379d0ed5ff2c",
    "ExecuteTime": {
     "end_time": "2023-11-24T09:00:36.706824Z",
     "start_time": "2023-11-24T09:00:36.230196Z"
    }
   },
   "outputs": [],
   "source": [
    "import time\n",
    "import pickle\n",
    "import pandas as pd\n",
    "import numpy as np"
   ]
  },
  {
   "cell_type": "code",
   "execution_count": 2,
   "metadata": {
    "colab": {
     "base_uri": "https://localhost:8080/"
    },
    "id": "Vyf3uMJNv4Co",
    "outputId": "b0449c75-2650-45de-8aca-f81cee1b1265",
    "ExecuteTime": {
     "end_time": "2023-11-24T09:00:37.443708Z",
     "start_time": "2023-11-24T09:00:36.616967Z"
    }
   },
   "outputs": [],
   "source": [
    "from scipy.signal import welch\n",
    "from scipy.integrate import simps\n",
    "\n",
    "from sklearn.model_selection import train_test_split\n",
    "from sklearn.preprocessing import StandardScaler\n",
    "from sklearn.svm import SVC\n",
    "from sklearn.neighbors import KNeighborsClassifier\n",
    "from sklearn.neural_network import MLPClassifier\n",
    "from sklearn import model_selection\n",
    "from sklearn.metrics import classification_report, confusion_matrix\n",
    "import itertools\n",
    "from sklearn.metrics import accuracy_score\n",
    "from sklearn.metrics import f1_score\n",
    "\n",
    "\n",
    "import matplotlib.pyplot as plt"
   ]
  },
  {
   "cell_type": "markdown",
   "metadata": {
    "id": "o_aflOWKGbi6"
   },
   "source": [
    "# Load dataset\n",
    "The EEG and peripheral physiological signals of 32 participants were recorded as each watched 40 music videos. Participants rated each video in terms of the levels of arousal, valence, dominance, and liking. The data was downsampled (to 128Hz), preprocessed and segmented in pickled Python formats."
   ]
  },
  {
   "cell_type": "code",
   "execution_count": 3,
   "metadata": {
    "id": "nvA40VzlLpvj",
    "ExecuteTime": {
     "end_time": "2023-11-24T09:00:37.446473Z",
     "start_time": "2023-11-24T09:00:37.444643Z"
    }
   },
   "outputs": [],
   "source": [
    "# Function to load data from each participant file\n",
    "def read_eeg_signal_from_file(filename):\n",
    "    x = pickle._Unpickler(open(filename, 'rb'))\n",
    "    x.encoding = 'latin1'\n",
    "    p = x.load()\n",
    "    return p"
   ]
  },
  {
   "cell_type": "code",
   "execution_count": 4,
   "metadata": {
    "colab": {
     "base_uri": "https://localhost:8080/"
    },
    "id": "xXtdo39GnE74",
    "outputId": "22b5a4d3-38da-4a40-a8dd-b20dec5d94f6",
    "ExecuteTime": {
     "end_time": "2023-11-24T09:00:37.451837Z",
     "start_time": "2023-11-24T09:00:37.447995Z"
    }
   },
   "outputs": [],
   "source": [
    "# Load only 22/32 participants with frontal videos recorded\n",
    "files = []\n",
    "for n in range(1, 23): \n",
    "    s = ''\n",
    "    if n < 10:\n",
    "        s += '0'\n",
    "    s += str(n)\n",
    "    files.append(s)"
   ]
  },
  {
   "cell_type": "markdown",
   "metadata": {
    "id": "GZ1uxeBNaYPW"
   },
   "source": [
    "Each participant file contains two arrays: a \"data\" array (40 trials x 40 channels x 8064 data) and a \"label\" array (40 trials x 4 subjective ratings: valence, arousal, dominance, liking). We combine the data files into 2 new arrays with 880 trials for 22/32 participants (participants with frontal videos recorded)."
   ]
  },
  {
   "cell_type": "code",
   "execution_count": 5,
   "metadata": {
    "id": "_-88ra8rMgLu",
    "ExecuteTime": {
     "end_time": "2023-11-24T09:00:38.916295Z",
     "start_time": "2023-11-24T09:00:37.451300Z"
    }
   },
   "outputs": [],
   "source": [
    "# 22x40 = 880 trials for 22 participants\n",
    "labels = []\n",
    "data = []\n",
    "\n",
    "for i in files: \n",
    "  filename = \"./eeg_data/s\" + i + \".dat\"\n",
    "  trial = read_eeg_signal_from_file(filename)\n",
    "  labels.append(trial['labels'])\n",
    "  data.append(trial['data'])\n",
    "\n",
    "# Re-shape arrays into desired shapes\n",
    "labels = np.array(labels)\n",
    "labels = labels.flatten()\n",
    "labels = labels.reshape(880, 4)"
   ]
  },
  {
   "cell_type": "code",
   "execution_count": 6,
   "outputs": [],
   "source": [
    "data = np.array(data)\n",
    "data = data.flatten()\n",
    "data = data.reshape(880, 40, 8064)\n"
   ],
   "metadata": {
    "collapsed": false,
    "ExecuteTime": {
     "end_time": "2023-11-24T09:00:41.032702Z",
     "start_time": "2023-11-24T09:00:38.914787Z"
    }
   }
  },
  {
   "cell_type": "markdown",
   "metadata": {
    "id": "HbF8zptv1vNb"
   },
   "source": [
    "# Explore and pre-process data"
   ]
  },
  {
   "cell_type": "markdown",
   "metadata": {
    "id": "213JmBn3LpQW"
   },
   "source": [
    "## Labels"
   ]
  },
  {
   "cell_type": "markdown",
   "metadata": {
    "id": "44LeXIJKwFZQ"
   },
   "source": [
    "#### Get Valence and Arousal ratings\n",
    "Valence describes the extent to which an emotion is positive or negative, whereas Arousal refers to its intensity, i.e., the strength of the associated emotional state."
   ]
  },
  {
   "cell_type": "markdown",
   "metadata": {
    "id": "MbR-yzBmklEv"
   },
   "source": [
    "#### Check positive/negative cases\n",
    "\n",
    "The combinations of Valence and Arousal can be converted to emotional states: High Arousal Positive Valence (Excited, Happy), Low Arousal Positive Valence (Calm, Relaxed), High Arousal Negative Valence (Angry, Nervous), and Low Arousal Negative Valence (Sad, Bored)."
   ]
  },
  {
   "cell_type": "markdown",
   "metadata": {
    "id": "EMULqzxuv5rG"
   },
   "source": [
    "#### One hot encoding"
   ]
  },
  {
   "cell_type": "code",
   "execution_count": 7,
   "metadata": {
    "id": "ODyfQxmdkHph",
    "ExecuteTime": {
     "end_time": "2023-11-24T09:00:41.034871Z",
     "start_time": "2023-11-24T09:00:41.031307Z"
    }
   },
   "outputs": [],
   "source": [
    "# Function to check if each trial has positive or negative valence\n",
    "def positive_valence(trial):\n",
    "    return 1 if labels[trial,0] >= np.median(labels[:,0]) else 0 \n",
    "# Function to check if each trial has high or low arousal\n",
    "def high_arousal(trial):\n",
    "    return 1 if labels[trial,1] >= np.median(labels[:,1]) else 0"
   ]
  },
  {
   "cell_type": "code",
   "execution_count": 8,
   "metadata": {
    "colab": {
     "base_uri": "https://localhost:8080/"
    },
    "id": "g9J20dcmwWAs",
    "outputId": "80904415-c4eb-44ec-d85d-dd8cf0ef3822",
    "ExecuteTime": {
     "end_time": "2023-11-24T09:00:41.089079Z",
     "start_time": "2023-11-24T09:00:41.033480Z"
    }
   },
   "outputs": [
    {
     "name": "stdout",
     "output_type": "stream",
     "text": [
      "       Positive Valence  High Arousal\n",
      "count        880.000000    880.000000\n",
      "mean           0.519318      0.502273\n",
      "std            0.499911      0.500279\n",
      "min            0.000000      0.000000\n",
      "25%            0.000000      0.000000\n",
      "50%            1.000000      1.000000\n",
      "75%            1.000000      1.000000\n",
      "max            1.000000      1.000000\n"
     ]
    }
   ],
   "source": [
    "# Convert all ratings to boolean values\n",
    "labels_encoded = []\n",
    "for i in range (len(labels)):\n",
    "  labels_encoded.append([positive_valence(i), high_arousal(i)])\n",
    "labels_encoded = np.reshape(labels_encoded, (880, 2))\n",
    "df_labels = pd.DataFrame(data=labels_encoded, columns=[\"Positive Valence\", \"High Arousal\"])\n",
    "print(df_labels.describe())"
   ]
  },
  {
   "cell_type": "code",
   "execution_count": 9,
   "metadata": {
    "id": "4DWLd5HRnokl",
    "ExecuteTime": {
     "end_time": "2023-11-24T09:00:41.089345Z",
     "start_time": "2023-11-24T09:00:41.077069Z"
    }
   },
   "outputs": [],
   "source": [
    "# Dataset with only Valence column\n",
    "df_valence = df_labels['Positive Valence']\n",
    "# Dataset with only Arousal column\n",
    "df_arousal = df_labels['High Arousal']"
   ]
  },
  {
   "cell_type": "markdown",
   "metadata": {
    "id": "waFpwzunvEl_"
   },
   "source": [
    "## EEG data"
   ]
  },
  {
   "cell_type": "markdown",
   "metadata": {
    "id": "qJuZ48FormXW"
   },
   "source": [
    "### Separate EEG and non-EEG data\n",
    "\n",
    "The dataset includes 32 EEG channels and 8 peripheral physiological channels. The peripheral signals include: electrooculogram (EOG), electromyograms (EMG) of Zygomaticus and Trapezius muscles, GSR, respiration amplitude, blood volume by plethysmograph, skin temperature."
   ]
  },
  {
   "cell_type": "code",
   "execution_count": 10,
   "metadata": {
    "id": "6szil8NKrgCC",
    "ExecuteTime": {
     "end_time": "2023-11-24T09:00:41.089477Z",
     "start_time": "2023-11-24T09:00:41.080295Z"
    }
   },
   "outputs": [],
   "source": [
    "eeg_channels = np.array([\"Fp1\", \"AF3\", \"F3\", \"F7\", \"FC5\", \"FC1\", \"C3\", \"T7\", \"CP5\", \"CP1\", \"P3\", \"P7\", \"PO3\", \"O1\", \"Oz\", \"Pz\", \"Fp2\", \"AF4\", \"Fz\", \"F4\", \"F8\", \"FC6\", \"FC2\", \"Cz\", \"C4\", \"T8\", \"CP6\", \"CP2\", \"P4\", \"P8\", \"PO4\", \"O2\"])"
   ]
  },
  {
   "cell_type": "code",
   "execution_count": 11,
   "metadata": {
    "colab": {
     "base_uri": "https://localhost:8080/"
    },
    "id": "QH6vd18C7A-v",
    "outputId": "456a038e-67e9-4c41-d9af-5c45f3564489",
    "ExecuteTime": {
     "end_time": "2023-11-24T09:00:41.611706Z",
     "start_time": "2023-11-24T09:00:41.083831Z"
    }
   },
   "outputs": [
    {
     "name": "stdout",
     "output_type": "stream",
     "text": [
      "880\n",
      "(880, 32, 8064)\n"
     ]
    }
   ],
   "source": [
    "eeg_data = []\n",
    "print(len(data))\n",
    "for i in range (len(data)):\n",
    "  for j in range (len(eeg_channels)):\n",
    "    eeg_data.append(data[i,j])\n",
    "eeg_data = np.reshape(eeg_data, (len(data), len(eeg_channels), len(data[0,0])))\n",
    "print(eeg_data.shape)"
   ]
  },
  {
   "cell_type": "markdown",
   "metadata": {
    "id": "PQL4IVupDmQg"
   },
   "source": [
    "### Welch's feature extraction\n",
    "\n",
    "For the EEG data, we use Welch's method to extract theta, alpha, beta, and gamma spectral\n",
    "power for each electrode. The frequency bands used:\n",
    "theta (4 - 8 Hz), alpha (8 - 12 Hz), beta (12 - 30 Hz),\n",
    "and gamma (30 - 64 Hz)."
   ]
  },
  {
   "cell_type": "markdown",
   "metadata": {
    "id": "gS3uZ_ADGdkm"
   },
   "source": [
    "#### Gamma band power"
   ]
  },
  {
   "cell_type": "markdown",
   "metadata": {
    "id": "VFh9c8v5IoM9"
   },
   "source": [
    "#### Functions to get band power values"
   ]
  },
  {
   "cell_type": "code",
   "execution_count": 12,
   "metadata": {
    "id": "z1ZQs2q3Hnno",
    "ExecuteTime": {
     "end_time": "2023-11-24T09:00:41.614756Z",
     "start_time": "2023-11-24T09:00:41.612027Z"
    }
   },
   "outputs": [],
   "source": [
    "\"\"\"Compute the average power of the signal x in a specific frequency band.\n",
    "\n",
    "    Parameters\n",
    "    ----------\n",
    "    data : 1d-array\n",
    "        Input signal in the time-domain.\n",
    "    sf : float\n",
    "        Sampling frequency of the data.\n",
    "    band : list\n",
    "        Lower and upper frequencies of the band of interest.\n",
    "    window_sec : float\n",
    "        Length of each window in seconds.\n",
    "        If None, window_sec = (1 / min(band)) * 2\n",
    "    relative : boolean\n",
    "        If True, return the relative power (= divided by the total power of the signal).\n",
    "        If False (default), return the absolute power.\n",
    "\n",
    "    Return\n",
    "    ------\n",
    "    bp : float\n",
    "        Absolute or relative band power.\n",
    "    \"\"\"\n",
    "def bandpower(data, sf, band, window_sec=None, relative=False):\n",
    "    band = np.asarray(band)\n",
    "    low, high = band\n",
    "\n",
    "    # Define window length\n",
    "    if window_sec is not None:\n",
    "        nperseg = window_sec * sf\n",
    "    else:\n",
    "        nperseg = (2 / low) * sf\n",
    "\n",
    "    # Compute the modified periodogram (Welch)\n",
    "    freqs, psd = welch(data, sf, nperseg=nperseg)\n",
    "\n",
    "    # Frequency resolution\n",
    "    freq_res = freqs[1] - freqs[0]\n",
    "\n",
    "    # Find closest indices of band in frequency vector\n",
    "    idx_band = np.logical_and(freqs >= low, freqs <= high)\n",
    "\n",
    "    # Integral approximation of the spectrum using Simpson's rule.\n",
    "    bp = simps(psd[idx_band], dx=freq_res)\n",
    "\n",
    "    if relative:\n",
    "        bp /= simps(psd, dx=freq_res)\n",
    "    return bp"
   ]
  },
  {
   "cell_type": "code",
   "execution_count": 13,
   "metadata": {
    "colab": {
     "base_uri": "https://localhost:8080/"
    },
    "id": "CN81MihX5ZbU",
    "outputId": "0e7800d4-270d-42f0-b218-fff84c6854a2",
    "ExecuteTime": {
     "end_time": "2023-11-24T09:00:41.629688Z",
     "start_time": "2023-11-24T09:00:41.618764Z"
    }
   },
   "outputs": [
    {
     "name": "stdout",
     "output_type": "stream",
     "text": [
      "5.434119660168186\n",
      "5.369595513295193\n",
      "6.286556266834863\n",
      "0.9879159580139809\n"
     ]
    }
   ],
   "source": [
    "def get_band_power(trial, channel, band):\n",
    "  bd = (0,0)\n",
    "\n",
    "  if band == \"theta\": # drownsiness, emotional connection, intuition, creativity\n",
    "    bd = (4,8)\n",
    "  elif band == \"alpha\": # reflection, relaxation\n",
    "    bd = (8,12)\n",
    "  elif band == \"beta\": # concentration, problem solving, memory\n",
    "    bd = (12,30)\n",
    "  elif band == \"gamma\": # cognition, perception, learning, multi-tasking\n",
    "    bd = (30,64)\n",
    "  \n",
    "  return bandpower(eeg_data[trial,channel], 128, bd)\n",
    "\n",
    "print(get_band_power(0,31,\"theta\"))\n",
    "print(get_band_power(0,31,\"alpha\"))\n",
    "print(get_band_power(0,31,\"beta\"))\n",
    "print(get_band_power(0,31,\"gamma\"))"
   ]
  },
  {
   "cell_type": "markdown",
   "metadata": {
    "id": "Vm_iTpEy_LJy"
   },
   "source": [
    "### Process new datasets with 6 EEG regions and 4 band power values"
   ]
  },
  {
   "cell_type": "code",
   "execution_count": 14,
   "metadata": {
    "id": "uPAKkeLoX1m-",
    "ExecuteTime": {
     "end_time": "2023-11-24T09:01:00.167377Z",
     "start_time": "2023-11-24T09:00:41.630489Z"
    }
   },
   "outputs": [],
   "source": [
    "# Transform 880 x 32 x 8064 => 880 x 128\n",
    "eeg_band_arr = []\n",
    "for i in range (len(eeg_data)):\n",
    "  for j in range (len(eeg_data[0])):\n",
    "    eeg_band_arr.append(get_band_power(i,j,\"theta\"))\n",
    "    eeg_band_arr.append(get_band_power(i,j,\"alpha\"))\n",
    "    eeg_band_arr.append(get_band_power(i,j,\"beta\"))\n",
    "    eeg_band_arr.append(get_band_power(i,j,\"gamma\"))\n",
    "eeg_band_arr = np.reshape(eeg_band_arr, (880, 128))"
   ]
  },
  {
   "cell_type": "markdown",
   "metadata": {
    "id": "2pUbENit2g6K"
   },
   "source": [
    "EEG channels are divided into 6 groups, according to their cerebral spatial locations. We combine the temmporal-left and temporal-right channels into the left and right groups. The frontal group only includes the fronto-central channels. All centro-parietal channels are included in the central group."
   ]
  },
  {
   "cell_type": "code",
   "execution_count": 15,
   "metadata": {
    "id": "eUinxvZMnN6m",
    "ExecuteTime": {
     "end_time": "2023-11-24T09:01:00.170385Z",
     "start_time": "2023-11-24T09:01:00.163671Z"
    }
   },
   "outputs": [],
   "source": [
    "left = np.array([\"Fp1\", \"AF3\", \"F7\", \"FC5\", \"T7\"])\n",
    "right = np.array([\"Fp2\", \"AF4\", \"F8\", \"FC6\", \"T8\"])\n",
    "frontal = np.array([\"F3\", \"FC1\", \"Fz\", \"F4\", \"FC2\"])\n",
    "parietal = np.array([\"P3\", \"P7\", \"Pz\", \"P4\", \"P8\"])\n",
    "occipital = np.array([\"O1\", \"Oz\", \"O2\", \"PO3\", \"PO4\"])\n",
    "central = np.array([\"CP5\", \"CP1\", \"Cz\", \"C4\", \"C3\", \"CP6\", \"CP2\"])"
   ]
  },
  {
   "cell_type": "markdown",
   "metadata": {
    "id": "UT6wjhN-Z_eY"
   },
   "source": [
    "#### Dataframe for Theta power values"
   ]
  },
  {
   "cell_type": "code",
   "execution_count": 16,
   "metadata": {
    "colab": {
     "base_uri": "https://localhost:8080/"
    },
    "id": "zfSLIKTWaD8l",
    "outputId": "733364e1-69b4-4b2b-dfab-d6fda511ebc3",
    "ExecuteTime": {
     "end_time": "2023-11-24T09:01:03.978740Z",
     "start_time": "2023-11-24T09:01:00.166671Z"
    }
   },
   "outputs": [
    {
     "name": "stdout",
     "output_type": "stream",
     "text": [
      "                Fp1           AF3            F3            F7           FC5  \\\n",
      "count    880.000000    880.000000    880.000000    880.000000    880.000000   \n",
      "mean     547.699828   1275.383637    961.474061   2081.240523    946.543725   \n",
      "std     1217.588842   3736.181334   3558.843893   5918.701828   2572.974374   \n",
      "min        2.698928      3.034321      3.150251      3.633784      1.897310   \n",
      "25%       24.093211     18.601381     22.046306     39.123277     13.872183   \n",
      "50%       58.450614     72.755754     73.991298    105.346160     43.000439   \n",
      "75%      366.274753    313.477898    196.346622    278.757018    256.012013   \n",
      "max    15524.135098  38122.870846  39431.320394  49272.793208  20182.668545   \n",
      "\n",
      "               FC1            C3           T7           CP5          CP1  ...  \\\n",
      "count   880.000000    880.000000   880.000000    880.000000   880.000000  ...   \n",
      "mean    335.659847    629.689546   384.184590    437.472694   278.676186  ...   \n",
      "std     714.083236   1774.585233   690.041682   1326.666132   515.088325  ...   \n",
      "min       2.025214      1.798486     3.708862      1.857737     1.340340  ...   \n",
      "25%      14.679788     25.657664    53.064342     17.935262    27.918373  ...   \n",
      "50%      66.131967     55.403952   134.362766     50.080690    51.480993  ...   \n",
      "75%     306.527528    269.628113   400.012778    205.442985   248.159200  ...   \n",
      "max    8542.244175  26021.167025  7023.985761  14679.421894  5972.589469  ...   \n",
      "\n",
      "                FC2            Cz            C4            T8           CP6  \\\n",
      "count    880.000000    880.000000    880.000000    880.000000    880.000000   \n",
      "mean     694.346729    520.276926    569.941908    947.742121    575.489698   \n",
      "std     1782.737328   1493.332128   2229.097482   2639.423665   1793.343586   \n",
      "min        3.420568      1.890924      1.713283      2.133474      1.496299   \n",
      "25%       36.617343     30.904918     10.982013     25.020595     25.419189   \n",
      "50%       82.247246     77.880479     25.499318     90.613223     92.051799   \n",
      "75%      232.720256    337.152806    131.159987    437.586473    269.262084   \n",
      "max    18617.218099  16408.471958  24826.365142  28038.714329  19908.437378   \n",
      "\n",
      "               CP2            P4           P8           PO4            O2  \n",
      "count   880.000000    880.000000   880.000000    880.000000    880.000000  \n",
      "mean    375.372215    623.574638   222.104105    810.241713    445.032766  \n",
      "std     766.492823   1647.573754   498.711644   1937.328397   1285.492111  \n",
      "min       1.577431      3.697784     2.167476      3.678479      3.681268  \n",
      "25%      22.901013     25.784262    19.265772     27.492929     18.065682  \n",
      "50%      73.741624     78.636675    80.094638     66.291245     59.377992  \n",
      "75%     299.824333    271.162456   201.890180    463.254689    137.771412  \n",
      "max    7210.746793  17568.065100  5487.311705  17167.017710  12314.030522  \n",
      "\n",
      "[8 rows x 32 columns]\n"
     ]
    }
   ],
   "source": [
    "# Transform 880 x 32 x 8064 => 880 x 32 \n",
    "eeg_theta = []\n",
    "for i in range (len(eeg_data)):\n",
    "  for j in range (len(eeg_data[0])):\n",
    "    eeg_theta.append(get_band_power(i,j,\"theta\"))\n",
    "eeg_theta = np.reshape(eeg_theta, (880, 32))\n",
    "\n",
    "df_theta = pd.DataFrame(data = eeg_theta, columns=eeg_channels)\n",
    "print(df_theta.describe())"
   ]
  },
  {
   "cell_type": "markdown",
   "metadata": {
    "id": "3M5NAOt2cnsK"
   },
   "source": [
    "#### Dataframe for Alpha power values"
   ]
  },
  {
   "cell_type": "code",
   "execution_count": 17,
   "metadata": {
    "colab": {
     "base_uri": "https://localhost:8080/"
    },
    "id": "AE0PyVhqcnsO",
    "outputId": "c65861d6-0b5d-4e73-c4d4-1b163e511837",
    "ExecuteTime": {
     "end_time": "2023-11-24T09:01:08.058285Z",
     "start_time": "2023-11-24T09:01:03.980146Z"
    }
   },
   "outputs": [
    {
     "name": "stdout",
     "output_type": "stream",
     "text": [
      "               Fp1           AF3            F3            F7          FC5  \\\n",
      "count   880.000000    880.000000    880.000000    880.000000   880.000000   \n",
      "mean    182.780787    433.010540    341.730793    787.400910   314.738809   \n",
      "std     397.609258   1257.592452   1216.972362   2308.043683   825.808971   \n",
      "min       2.770151      2.600120      2.465953      2.797222     1.834374   \n",
      "25%      14.191465     11.606644     11.980286     20.273524    10.026005   \n",
      "50%      33.255285     30.578066     34.808317     43.435592    18.695757   \n",
      "75%     143.122306    113.219878     76.686527     98.532143    80.893786   \n",
      "max    5627.906982  12380.702125  12764.724842  20843.070851  6575.781434   \n",
      "\n",
      "               FC1           C3           T7          CP5          CP1  ...  \\\n",
      "count   880.000000   880.000000   880.000000   880.000000   880.000000  ...   \n",
      "mean    121.280044   217.799701   134.574741   152.678807    97.400749  ...   \n",
      "std     239.498196   589.217906   212.290931   453.804808   170.997374  ...   \n",
      "min       1.682977     1.963403     3.966181     2.251935     1.682386  ...   \n",
      "25%       8.427429    13.917800    24.110703    10.684938    13.228673  ...   \n",
      "50%      28.790354    25.355602    55.096533    19.994053    22.190983  ...   \n",
      "75%     131.405926    85.811021   150.017945    74.548488    96.381597  ...   \n",
      "max    3030.077791  9215.549575  2142.437275  4750.235430  2148.109415  ...   \n",
      "\n",
      "               FC2           Cz            C4           T8          CP6  \\\n",
      "count   880.000000   880.000000    880.000000   880.000000   880.000000   \n",
      "mean    242.035178   203.898889    240.270603   345.490072   231.594782   \n",
      "std     607.247107   631.647185    962.734851   924.207786   767.744320   \n",
      "min       2.671081     1.315395      1.227024     1.636114     2.181082   \n",
      "25%      14.535908    15.677796      7.153680    18.205099    12.602484   \n",
      "50%      33.349697    31.243622     14.757875    36.627304    40.610705   \n",
      "75%      97.456298   110.385424     46.039458   163.719330    97.691040   \n",
      "max    6038.451512  6881.486185  10501.570698  9022.269308  8394.200372   \n",
      "\n",
      "               CP2           P4           P8          PO4           O2  \n",
      "count   880.000000   880.000000   880.000000   880.000000   880.000000  \n",
      "mean    138.030155   212.456471    91.260191   278.619376   169.975618  \n",
      "std     278.882654   556.513291   212.774105   642.329264   476.333660  \n",
      "min       1.520363     3.151385     2.874756     4.252881     3.617116  \n",
      "25%      14.633580    16.603990    11.825084    15.389916     9.851048  \n",
      "50%      32.672977    33.939374    33.744393    28.394329    26.317698  \n",
      "75%      98.522333    97.994596    79.247131   152.594417    52.167914  \n",
      "max    2368.537880  5666.733316  2323.499853  5542.263376  3966.714864  \n",
      "\n",
      "[8 rows x 32 columns]\n"
     ]
    }
   ],
   "source": [
    "# Transform 880 x 32 x 8064 => 880 x 32 \n",
    "eeg_alpha = []\n",
    "for i in range (len(eeg_data)):\n",
    "  for j in range (len(eeg_data[0])):\n",
    "    eeg_alpha.append(get_band_power(i,j,\"alpha\"))\n",
    "eeg_alpha = np.reshape(eeg_alpha, (880, 32))\n",
    "\n",
    "df_alpha = pd.DataFrame(data = eeg_alpha, columns=eeg_channels)\n",
    "print(df_alpha.describe())"
   ]
  },
  {
   "cell_type": "markdown",
   "metadata": {
    "id": "hdjUxI0hdi0v"
   },
   "source": [
    "#### Dataframe for Beta power values"
   ]
  },
  {
   "cell_type": "code",
   "execution_count": 18,
   "metadata": {
    "colab": {
     "base_uri": "https://localhost:8080/"
    },
    "id": "ppP9mP-odi06",
    "outputId": "7918660d-c893-4c91-bbdc-df2cef4a4696",
    "ExecuteTime": {
     "end_time": "2023-11-24T09:01:12.804663Z",
     "start_time": "2023-11-24T09:01:08.058136Z"
    }
   },
   "outputs": [
    {
     "name": "stdout",
     "output_type": "stream",
     "text": [
      "               Fp1          AF3           F3            F7          FC5  \\\n",
      "count   880.000000   880.000000   880.000000    880.000000   880.000000   \n",
      "mean    101.611223   263.952803   235.508477    465.399568   179.789592   \n",
      "std     198.334644   796.392259   788.367310   1519.021099   458.150537   \n",
      "min       4.833550     4.883739     2.784376      3.363422     2.788531   \n",
      "25%      18.086819    11.982996    10.729005     22.091801    11.204561   \n",
      "50%      34.722505    25.125524    36.282166     38.288488    24.475747   \n",
      "75%      85.835547   126.899960    60.713457     66.695440    51.443774   \n",
      "max    3528.485435  5784.160193  5841.475721  14848.700463  3094.687504   \n",
      "\n",
      "               FC1           C3          T7          CP5          CP1  ...  \\\n",
      "count   880.000000   880.000000  880.000000   880.000000   880.000000  ...   \n",
      "mean     79.068918   122.401946   88.356066   100.541065    56.115746  ...   \n",
      "std     143.006705   292.628142   98.997184   300.750517    91.929062  ...   \n",
      "min       3.145262     2.991550    6.134402     2.886994     2.237445  ...   \n",
      "25%       8.837606    11.976330   26.232800     9.524082     9.311401  ...   \n",
      "50%      17.684794    23.594104   49.175842    18.023689    16.192789  ...   \n",
      "75%      77.602328    49.269632  113.833883    43.621856    47.673457  ...   \n",
      "max    1702.542675  5187.441594  634.645675  2216.870224  1238.024108  ...   \n",
      "\n",
      "               FC2           Cz           C4           T8          CP6  \\\n",
      "count   880.000000   880.000000   880.000000   880.000000   880.000000   \n",
      "mean    147.331267   140.045212   179.646918   229.592240   165.740501   \n",
      "std     384.936931   463.482166   722.186603   600.731613   572.237430   \n",
      "min       4.481800     2.475593     2.079646     2.429178     2.524762   \n",
      "25%      10.784564    13.157386     7.007521    20.998419    10.678936   \n",
      "50%      24.093137    26.120188    13.107055    35.296858    32.964970   \n",
      "75%      73.800561    54.059727    26.318062   102.986563    61.406723   \n",
      "max    2786.622358  4842.537927  7489.480637  4064.418656  5955.637009   \n",
      "\n",
      "               CP2           P4           P8          PO4           O2  \n",
      "count   880.000000   880.000000   880.000000   880.000000   880.000000  \n",
      "mean     94.495877   125.000144    68.040004   160.492195   122.210202  \n",
      "std     196.303312   341.097433   156.947583   375.458426   327.015453  \n",
      "min       2.272088     4.228124     3.702323     3.603766     5.084168  \n",
      "25%      12.305490    12.676097    12.478730    14.524542    11.077585  \n",
      "50%      22.619709    24.170272    24.848030    24.013031    19.815355  \n",
      "75%      63.043738    68.781885    63.383370    77.211081    40.988955  \n",
      "max    1265.234960  2533.794744  1653.743590  2516.334382  2454.759737  \n",
      "\n",
      "[8 rows x 32 columns]\n"
     ]
    }
   ],
   "source": [
    "# Transform 880 x 32 x 8064 => 880 x 32 \n",
    "eeg_beta = []\n",
    "for i in range (len(eeg_data)):\n",
    "  for j in range (len(eeg_data[0])):\n",
    "    eeg_beta.append(get_band_power(i,j,\"beta\"))\n",
    "eeg_beta = np.reshape(eeg_beta, (880, 32))\n",
    "\n",
    "df_beta = pd.DataFrame(data = eeg_beta, columns=eeg_channels)\n",
    "print(df_beta.describe())"
   ]
  },
  {
   "cell_type": "markdown",
   "metadata": {
    "id": "wN4162ixeK9w"
   },
   "source": [
    "#### Dataframe for Gamma power values"
   ]
  },
  {
   "cell_type": "code",
   "execution_count": 19,
   "metadata": {
    "colab": {
     "base_uri": "https://localhost:8080/"
    },
    "id": "SrkOeQvheK90",
    "outputId": "2e332e68-57b3-48ab-eab9-5d23b03fdcc9",
    "ExecuteTime": {
     "end_time": "2023-11-24T09:01:18.425951Z",
     "start_time": "2023-11-24T09:01:12.804510Z"
    }
   },
   "outputs": [
    {
     "name": "stdout",
     "output_type": "stream",
     "text": [
      "               Fp1          AF3           F3           F7          FC5  \\\n",
      "count   880.000000   880.000000   880.000000   880.000000   880.000000   \n",
      "mean     64.360730   209.707060   194.609476   159.941476   124.196535   \n",
      "std     161.216361   771.449190   753.374704   592.830844   406.399270   \n",
      "min       1.069233     1.119910     0.791859     1.177512     0.712624   \n",
      "25%       9.012946     5.500269     5.077370    11.192724     5.261965   \n",
      "50%      20.679781    14.559035    15.403148    18.490352    13.541378   \n",
      "75%      48.359529    74.742440    38.093791    43.985629    44.548886   \n",
      "max    3213.255538  6060.539788  5758.756812  6348.177208  3472.515858   \n",
      "\n",
      "               FC1           C3          T7          CP5          CP1  ...  \\\n",
      "count   880.000000   880.000000  880.000000   880.000000   880.000000  ...   \n",
      "mean     56.189659    74.570798   53.296388    80.533037    32.725472  ...   \n",
      "std     141.231111   214.343252   71.234263   292.089404    77.716661  ...   \n",
      "min       0.694928     0.739817    2.325355     0.788359     0.509259  ...   \n",
      "25%       2.819869     4.802622   14.854243     2.981876     2.888243  ...   \n",
      "50%       7.557131    10.087184   30.448917     8.468518     7.401460  ...   \n",
      "75%      34.718056    40.737937   67.235485    20.326843    22.725941  ...   \n",
      "max    1413.985901  4376.356658  809.935644  2294.561961  1011.985310  ...   \n",
      "\n",
      "               FC2           Cz           C4           T8          CP6  \\\n",
      "count   880.000000   880.000000   880.000000   880.000000   880.000000   \n",
      "mean    100.560363    58.297366    77.323948   158.280746    75.459759   \n",
      "std     364.029569   179.943707   285.846746   510.590027   232.682224   \n",
      "min       0.845935     0.685673     0.697486     1.027260     0.609425   \n",
      "25%       4.055624     4.115357     2.374699     9.619028     4.168590   \n",
      "50%      10.664308     9.297769     4.811743    20.318954    11.884025   \n",
      "75%      35.688275    27.171651    14.695241    53.669461    33.105928   \n",
      "max    2829.052404  1892.813293  3054.309237  3954.519861  2405.614840   \n",
      "\n",
      "               CP2           P4          P8          PO4           O2  \n",
      "count   880.000000   880.000000  880.000000   880.000000   880.000000  \n",
      "mean     63.332320    90.023282   33.286504    99.862476    78.234919  \n",
      "std     169.226363   316.513061   64.874498   323.710395   241.881491  \n",
      "min       0.478152     1.275852    0.804002     0.838747     0.877576  \n",
      "25%       3.899669     4.436697    4.792611     5.660221     4.285074  \n",
      "50%       9.581570     9.679291   12.656086    11.397268     9.613644  \n",
      "75%      32.205796    35.779347   30.075965    37.327202    20.340344  \n",
      "max    1426.462453  2446.765512  647.533599  2505.826127  1794.801694  \n",
      "\n",
      "[8 rows x 32 columns]\n"
     ]
    }
   ],
   "source": [
    "# Transform 880 x 32 x 8064 => 880 x 32 \n",
    "eeg_gamma = []\n",
    "for i in range (len(eeg_data)):\n",
    "  for j in range (len(eeg_data[0])):\n",
    "    eeg_gamma.append(get_band_power(i,j,\"gamma\"))\n",
    "eeg_gamma = np.reshape(eeg_gamma, (880, 32))\n",
    "\n",
    "df_gamma = pd.DataFrame(data = eeg_gamma, columns=eeg_channels)\n",
    "print(df_gamma.describe())"
   ]
  },
  {
   "cell_type": "markdown",
   "metadata": {
    "id": "eQlRP4LrOMlk"
   },
   "source": [
    "# Train-test split and feature scaling"
   ]
  },
  {
   "cell_type": "code",
   "execution_count": 20,
   "metadata": {
    "id": "Wmoxv3CbaGTL",
    "ExecuteTime": {
     "end_time": "2023-11-24T09:01:18.428553Z",
     "start_time": "2023-11-24T09:01:18.425716Z"
    }
   },
   "outputs": [],
   "source": [
    "# Split the data into training/testing sets\n",
    "def split_train_test(x, y):\n",
    "  x_train, x_test, y_train, y_test = train_test_split(x, y, test_size=0.30, random_state=42)\n",
    "  return x_train, x_test, y_train, y_test"
   ]
  },
  {
   "cell_type": "code",
   "execution_count": 21,
   "metadata": {
    "id": "Jk7-M20caZ6r",
    "ExecuteTime": {
     "end_time": "2023-11-24T09:01:18.430588Z",
     "start_time": "2023-11-24T09:01:18.428468Z"
    }
   },
   "outputs": [],
   "source": [
    "# Feature scaling\n",
    "def feature_scaling(train, test):\n",
    "  sc = StandardScaler()\n",
    "  train = sc.fit_transform(train)\n",
    "  test = sc.transform(test)\n",
    "  return train, test"
   ]
  },
  {
   "cell_type": "markdown",
   "metadata": {
    "id": "CbCztoUDVgmR"
   },
   "source": [
    "# Cross-validation to select classifier"
   ]
  },
  {
   "cell_type": "code",
   "execution_count": 22,
   "metadata": {
    "id": "oPxDs36P6IGn",
    "ExecuteTime": {
     "end_time": "2023-11-24T09:01:18.432483Z",
     "start_time": "2023-11-24T09:01:18.431126Z"
    }
   },
   "outputs": [],
   "source": [
    "band_names = np.array([\"theta\", \"alpha\", \"beta\", \"gamma\"])\n",
    "channel_names = np.array([\"left\", \"frontal\", \"right\", \"central\", \"parietal\", \"occipital\"])\n",
    "label_names = np.array([\"valence\", \"arousal\"])"
   ]
  },
  {
   "cell_type": "code",
   "execution_count": 23,
   "metadata": {
    "id": "vVJeIrFx6Kjg",
    "ExecuteTime": {
     "end_time": "2023-11-24T09:01:18.437202Z",
     "start_time": "2023-11-24T09:01:18.433448Z"
    }
   },
   "outputs": [],
   "source": [
    "# Testing different kernels (linear, sigmoid, rbf, poly) to select the most optimal one\n",
    "clf_svm = SVC(kernel = 'linear', random_state = 42, probability=True)"
   ]
  },
  {
   "cell_type": "code",
   "execution_count": 24,
   "metadata": {
    "id": "HNlNfGunJLgz",
    "ExecuteTime": {
     "end_time": "2023-11-24T09:01:18.441275Z",
     "start_time": "2023-11-24T09:01:18.435780Z"
    }
   },
   "outputs": [],
   "source": [
    "# Testing different k (odd) numbers, algorithm (auto, ball_tree, kd_tree) and weight (uniform, distance) to select the most optimal one\n",
    "clf_knn = KNeighborsClassifier(n_neighbors=5, weights='distance', algorithm='auto')"
   ]
  },
  {
   "cell_type": "code",
   "execution_count": 25,
   "metadata": {
    "id": "g5i16sQRJLq1",
    "ExecuteTime": {
     "end_time": "2023-11-24T09:01:18.446634Z",
     "start_time": "2023-11-24T09:01:18.440689Z"
    }
   },
   "outputs": [],
   "source": [
    "# Testing different learning rate (alpha), solver (adam, sgd, lbfgs) and activation (relu, tanh, logistic) to select the most optimal one\n",
    "clf_mlp = MLPClassifier(solver='adam', activation='tanh', alpha=0.3, max_iter=400)"
   ]
  },
  {
   "cell_type": "code",
   "execution_count": 26,
   "metadata": {
    "id": "KJOYrhOcWspv",
    "ExecuteTime": {
     "end_time": "2023-11-24T09:01:18.448784Z",
     "start_time": "2023-11-24T09:01:18.446489Z"
    }
   },
   "outputs": [],
   "source": [
    "models = []\n",
    "models.append(('SVM', clf_svm))\n",
    "models.append(('k-NN', clf_knn))\n",
    "models.append(('MLP', clf_mlp))"
   ]
  },
  {
   "cell_type": "code",
   "execution_count": 27,
   "metadata": {
    "id": "0H1idT6uX0EU",
    "ExecuteTime": {
     "end_time": "2023-11-24T09:01:18.497827Z",
     "start_time": "2023-11-24T09:01:18.450667Z"
    }
   },
   "outputs": [],
   "source": [
    "def cross_validate_clf(df_x, df_y, scoring):\n",
    "  # Train-test split \n",
    "  x_train, x_test, y_train, y_test = split_train_test(df_x, df_y)\n",
    "  # Feature scaling\n",
    "  x_train, x_test = feature_scaling(x_train, x_test)\n",
    "\n",
    "  names = []\n",
    "  means = []\n",
    "  stds = []\n",
    "  times = []\n",
    "\n",
    "  # Apply CV\n",
    "  for name, model in models:\n",
    "      start_time = time.time()\n",
    "      kfold = model_selection.KFold(n_splits=5)\n",
    "      cv_results = model_selection.cross_val_score(model, x_train, y_train, cv=kfold, scoring=scoring)\n",
    "      t = (time.time() - start_time)\n",
    "      times.append(t)\n",
    "      means.append(cv_results.mean())\n",
    "      stds.append(cv_results.std())\n",
    "      names.append(name)\n",
    "\n",
    "  return names, means, stds, times"
   ]
  },
  {
   "cell_type": "markdown",
   "metadata": {
    "id": "n1qYAemsZVGI"
   },
   "source": [
    "### Arousal - Accuracy"
   ]
  },
  {
   "cell_type": "code",
   "execution_count": 28,
   "metadata": {
    "colab": {
     "base_uri": "https://localhost:8080/"
    },
    "id": "1N_P0km2_DPq",
    "outputId": "43ed66ba-8fe9-46e0-d4bc-b8ad20d33066",
    "ExecuteTime": {
     "end_time": "2023-11-24T09:01:23.236565Z",
     "start_time": "2023-11-24T09:01:18.463050Z"
    }
   },
   "outputs": [
    {
     "data": {
      "text/plain": "(['SVM', 'k-NN', 'MLP'],\n [0.5827432467873066, 0.582690794649882, 0.5843168109100445],\n [0.032101393745388146, 0.04431488605048775, 0.03778702364073061],\n [0.43918418884277344, 0.18686795234680176, 4.128681898117065])"
     },
     "execution_count": 28,
     "metadata": {},
     "output_type": "execute_result"
    }
   ],
   "source": [
    "cross_validate_clf(eeg_band_arr, df_arousal, 'accuracy')"
   ]
  },
  {
   "cell_type": "markdown",
   "metadata": {
    "id": "rJGy_VeJMRbc"
   },
   "source": [
    "### Arousal - F1"
   ]
  },
  {
   "cell_type": "code",
   "execution_count": 29,
   "metadata": {
    "colab": {
     "base_uri": "https://localhost:8080/"
    },
    "id": "prUzbWXlAhoj",
    "outputId": "df0757e1-6c68-4786-a4b1-f5564446eddd",
    "ExecuteTime": {
     "end_time": "2023-11-24T09:01:27.493088Z",
     "start_time": "2023-11-24T09:01:23.235225Z"
    }
   },
   "outputs": [
    {
     "data": {
      "text/plain": "(['SVM', 'k-NN', 'MLP'],\n [0.5937644626169215, 0.5894382544174931, 0.6013173685666102],\n [0.06306024032148098, 0.05063265884937661, 0.056864321012490386],\n [0.529728889465332, 0.01907205581665039, 3.6961710453033447])"
     },
     "execution_count": 29,
     "metadata": {},
     "output_type": "execute_result"
    }
   ],
   "source": [
    "cross_validate_clf(eeg_band_arr, df_arousal, 'f1')"
   ]
  },
  {
   "cell_type": "markdown",
   "metadata": {
    "id": "aZkugf5yMbfG"
   },
   "source": [
    "### Valence - Accuracy"
   ]
  },
  {
   "cell_type": "code",
   "execution_count": 30,
   "metadata": {
    "colab": {
     "base_uri": "https://localhost:8080/"
    },
    "id": "bYhN3X0UA-HK",
    "outputId": "d23384b2-3fe4-4f17-97e8-52cd45efd46c",
    "ExecuteTime": {
     "end_time": "2023-11-24T09:01:33.205438Z",
     "start_time": "2023-11-24T09:01:27.495765Z"
    }
   },
   "outputs": [
    {
     "data": {
      "text/plain": "(['SVM', 'k-NN', 'MLP'],\n [0.5748360870705481, 0.6168895882507213, 0.6284028324154209],\n [0.05271530492570222, 0.044277309553946674, 0.08191331253157647],\n [0.5725991725921631, 0.016885995864868164, 5.011868238449097])"
     },
     "execution_count": 30,
     "metadata": {},
     "output_type": "execute_result"
    }
   ],
   "source": [
    "cross_validate_clf(eeg_band_arr, df_valence, 'accuracy')"
   ]
  },
  {
   "cell_type": "markdown",
   "metadata": {
    "id": "TAIvhiHIMfZK"
   },
   "source": [
    "### Valence - F1"
   ]
  },
  {
   "cell_type": "code",
   "execution_count": 31,
   "metadata": {
    "colab": {
     "base_uri": "https://localhost:8080/"
    },
    "id": "fbRKJeeUBEoP",
    "outputId": "0cb9f5b9-8741-4f12-d2b8-274030535f4b",
    "ExecuteTime": {
     "end_time": "2023-11-24T09:01:38.242642Z",
     "start_time": "2023-11-24T09:01:33.190727Z"
    }
   },
   "outputs": [
    {
     "data": {
      "text/plain": "(['SVM', 'k-NN', 'MLP'],\n [0.5663061143466444, 0.6284944434096976, 0.6668000016481457],\n [0.05453809485526526, 0.05807541894297642, 0.07656197784213717],\n [0.5597858428955078, 0.015308856964111328, 4.509238958358765])"
     },
     "execution_count": 31,
     "metadata": {},
     "output_type": "execute_result"
    }
   ],
   "source": [
    "cross_validate_clf(eeg_band_arr, df_valence, 'f1')"
   ]
  },
  {
   "cell_type": "markdown",
   "metadata": {
    "id": "Tuz9KEva1TSX"
   },
   "source": [
    "# Apply classifier"
   ]
  },
  {
   "cell_type": "markdown",
   "metadata": {
    "id": "yOuzoYWn_4wj"
   },
   "source": [
    "## Functions to run classifiers"
   ]
  },
  {
   "cell_type": "code",
   "execution_count": 32,
   "metadata": {
    "id": "4huP8jJb1koq",
    "ExecuteTime": {
     "end_time": "2023-11-24T09:01:38.282981Z",
     "start_time": "2023-11-24T09:01:38.246683Z"
    }
   },
   "outputs": [],
   "source": [
    "def run_clf_cv(band, channel, label, clf):\n",
    "  if band == \"theta\":\n",
    "    df_x = df_theta\n",
    "  elif band == \"alpha\":\n",
    "    df_x = df_alpha\n",
    "  elif band == \"beta\":\n",
    "    df_x = df_beta\n",
    "  elif band == \"gamma\":\n",
    "    df_x = df_gamma\n",
    "\n",
    "  if channel == \"left\":\n",
    "    df_x = df_x[left]\n",
    "  elif channel == \"right\":\n",
    "    df_x = df_x[right]\n",
    "  elif channel == \"frontal\":\n",
    "    df_x = df_x[frontal]\n",
    "  elif channel == \"central\":\n",
    "    df_x = df_x[central]\n",
    "  elif channel == \"parietal\":\n",
    "    df_x = df_x[parietal]\n",
    "  elif channel == \"occipital\":\n",
    "    df_x = df_x[occipital]\n",
    "\n",
    "  df_y = df_arousal if (label == \"arousal\") else df_valence\n",
    "\n",
    "  # Train-test split\n",
    "  x_train, x_test, y_train, y_test = split_train_test(df_x, df_y)\n",
    "  \n",
    "  # Apply CV\n",
    "  x_for_kfold = np.array(x_train)            \n",
    "  y_for_kfold = np.array(y_train)\n",
    "  kfold = model_selection.KFold(n_splits=5)\n",
    "\n",
    "  for i, j in kfold.split(x_for_kfold):\n",
    "   x_train2, x_test2 = x_for_kfold[i], x_for_kfold[j]\n",
    "   y_train2, y_test2 = y_for_kfold[i], y_for_kfold[j]\n",
    "  \n",
    "  # Feature scaling\n",
    "  x_train2, x_test2 = feature_scaling(x_train2, x_test2)\n",
    "\n",
    "  if clf == \"svm\":\n",
    "    clf_svm.fit(x_train2, y_train2)\n",
    "    y_predict = clf_svm.predict(x_test2)\n",
    "  elif clf == \"knn\":\n",
    "    clf_knn.fit(x_train2, y_train2)\n",
    "    y_predict = clf_knn.predict(x_test2)\n",
    "  elif clf == \"mlp\":\n",
    "    clf_mlp.fit(x_train2, y_train2)\n",
    "    y_predict = clf_mlp.predict(x_test2)\n",
    "\n",
    "  return y_test2, y_predict"
   ]
  },
  {
   "cell_type": "code",
   "execution_count": 33,
   "metadata": {
    "id": "kNIJkN5dlhi2",
    "ExecuteTime": {
     "end_time": "2023-11-24T09:01:38.293532Z",
     "start_time": "2023-11-24T09:01:38.261465Z"
    }
   },
   "outputs": [],
   "source": [
    "def get_accuracy(band, channel, label, clf):\n",
    "  y_test2, y_predict = run_clf_cv(band, channel, label, clf)\n",
    "  return np.round(accuracy_score(y_test2, y_predict)*100,2)"
   ]
  },
  {
   "cell_type": "code",
   "execution_count": 34,
   "metadata": {
    "id": "iJuy1ANE_EJZ",
    "ExecuteTime": {
     "end_time": "2023-11-24T09:01:38.295063Z",
     "start_time": "2023-11-24T09:01:38.278511Z"
    }
   },
   "outputs": [],
   "source": [
    "def print_accuracy(label, clf):\n",
    "  arr = []\n",
    "  for i in range (len(band_names)):\n",
    "    for j in range (len(channel_names)): \n",
    "      arr.append(get_accuracy(band_names[i], channel_names[j], label, clf))\n",
    "  arr = np.reshape(arr, (4,6))\n",
    "  df = pd.DataFrame(data = arr, index=band_names, columns=channel_names)\n",
    "\n",
    "  print(\"Top 3 EEG regions with highest scores\")\n",
    "  print(df.apply(lambda s: s.abs()).max().nlargest(3))\n",
    "  print()\n",
    "  print(\"Top 2 bands with highest scores\")\n",
    "  print(df.apply(lambda s: s.abs()).max(axis=1).nlargest(2))\n",
    "  print()\n",
    "  print(\"EEG region with highest scores per each band\")\n",
    "  print(df.idxmax(axis=1))\n",
    "  print()\n",
    "  print(\"Band with highest scores per each EEG region\")\n",
    "  print(df.idxmax())\n",
    "  print()\n",
    "  print(df)"
   ]
  },
  {
   "cell_type": "code",
   "execution_count": 35,
   "metadata": {
    "id": "HEw2OqPSi3OI",
    "ExecuteTime": {
     "end_time": "2023-11-24T09:01:38.303213Z",
     "start_time": "2023-11-24T09:01:38.291848Z"
    }
   },
   "outputs": [],
   "source": [
    "def get_f1(band, channel, label, clf):\n",
    "  y_test2, y_predict = run_clf_cv(band, channel, label, clf)\n",
    "  return np.round(f1_score(y_test2, y_predict)*100,2)"
   ]
  },
  {
   "cell_type": "code",
   "execution_count": 36,
   "metadata": {
    "id": "VJRPq7NNi3OI",
    "ExecuteTime": {
     "end_time": "2023-11-24T09:01:38.323939Z",
     "start_time": "2023-11-24T09:01:38.298569Z"
    }
   },
   "outputs": [],
   "source": [
    "def print_f1(label, clf):\n",
    "  arr = []\n",
    "  for i in range (len(band_names)):\n",
    "    for j in range (len(channel_names)): \n",
    "      arr.append(get_f1(band_names[i], channel_names[j], label, clf))\n",
    "  arr = np.reshape(arr, (4,6))\n",
    "  df = pd.DataFrame(data = arr, index=band_names, columns=channel_names)\n",
    "\n",
    "  print(\"Top 3 EEG regions with highest scores\")\n",
    "  print(df.apply(lambda s: s.abs()).max().nlargest(3))\n",
    "  print()\n",
    "  print(\"Top 2 bands with highest scores\")\n",
    "  print(df.apply(lambda s: s.abs()).max(axis=1).nlargest(2))\n",
    "  print()\n",
    "  print(\"EEG region with highest scores per each band\")\n",
    "  print(df.idxmax(axis=1))\n",
    "  print()\n",
    "  print(\"Band with highest scores per each EEG regions\")\n",
    "  print(df.idxmax())\n",
    "  print()\n",
    "  print(df)"
   ]
  },
  {
   "cell_type": "code",
   "execution_count": 37,
   "metadata": {
    "id": "8Ejnm0aSnORY",
    "ExecuteTime": {
     "end_time": "2023-11-24T09:01:38.324596Z",
     "start_time": "2023-11-24T09:01:38.308687Z"
    }
   },
   "outputs": [],
   "source": [
    "def plot_cm(band, channel, label, clf):\n",
    "  y_test2, y_predict = run_clf_cv(band, channel, label, clf)\n",
    "  cm = confusion_matrix(y_test2, y_predict)\n",
    "  print(cm)\n",
    "  cr = classification_report(y_test2, y_predict)\n",
    "  print(cr)\n",
    "\n",
    "  plt.figure()\n",
    "  plt.imshow(cm, interpolation='nearest', cmap=plt.cm.Blues)\n",
    "  plt.colorbar()\n",
    "\n",
    "  if label == \"valence\":\n",
    "    classes = df_valence.unique().tolist()\n",
    "  if label == \"arousal\":\n",
    "    classes = df_arousal.unique().tolist()\n",
    "\n",
    "  tick_marks = np.arange(len(classes))\n",
    "  plt.xticks(tick_marks, classes, rotation=45)\n",
    "  plt.yticks(tick_marks, classes)\n",
    "\n",
    "  thresh = cm.max() / 2.\n",
    "  for i, j in itertools.product(range(cm.shape[0]), range(cm.shape[1])):\n",
    "      plt.text(j, i, format(cm[i, j], 'd'),\n",
    "               horizontalalignment=\"center\",\n",
    "               color=\"white\" if cm[i, j] > thresh else \"black\")\n",
    "\n",
    "  plt.tight_layout()\n",
    "  plt.ylabel('True label')\n",
    "  plt.xlabel('Predicted label')\n"
   ]
  },
  {
   "cell_type": "markdown",
   "metadata": {
    "id": "0yRqQN3AJE64"
   },
   "source": [
    "## Accuracy results"
   ]
  },
  {
   "cell_type": "markdown",
   "metadata": {
    "id": "Qu8s_8E4Lq6X"
   },
   "source": [
    "### Valence"
   ]
  },
  {
   "cell_type": "code",
   "execution_count": 38,
   "metadata": {
    "colab": {
     "base_uri": "https://localhost:8080/"
    },
    "id": "jYWZW53wLq6h",
    "outputId": "a5031725-4293-4315-9733-49ef260fc410",
    "ExecuteTime": {
     "end_time": "2023-11-24T09:01:38.401152Z",
     "start_time": "2023-11-24T09:01:38.327053Z"
    }
   },
   "outputs": [
    {
     "name": "stdout",
     "output_type": "stream",
     "text": [
      "Top 3 EEG regions with highest scores\n",
      "left       69.11\n",
      "right      68.29\n",
      "central    67.48\n",
      "dtype: float64\n",
      "\n",
      "Top 2 bands with highest scores\n",
      "beta     69.11\n",
      "gamma    68.29\n",
      "dtype: float64\n",
      "\n",
      "EEG region with highest scores per each band\n",
      "theta    central\n",
      "alpha    central\n",
      "beta        left\n",
      "gamma      right\n",
      "dtype: object\n",
      "\n",
      "Band with highest scores per each EEG region\n",
      "left          beta\n",
      "frontal       beta\n",
      "right        gamma\n",
      "central      theta\n",
      "parietal      beta\n",
      "occipital     beta\n",
      "dtype: object\n",
      "\n",
      "        left  frontal  right  central  parietal  occipital\n",
      "theta  56.91    63.41  57.72    67.48     56.91      55.28\n",
      "alpha  58.54    52.85  60.16    65.85     62.60      55.28\n",
      "beta   69.11    64.23  65.85    59.35     64.23      63.41\n",
      "gamma  59.35    61.79  68.29    61.79     60.98      62.60\n"
     ]
    }
   ],
   "source": [
    "# Only use k-NN in case of Valence after CV\n",
    "print_accuracy('valence', 'knn')"
   ]
  },
  {
   "cell_type": "markdown",
   "metadata": {
    "id": "uHawo_dHLyUB"
   },
   "source": [
    "### Arousal"
   ]
  },
  {
   "cell_type": "code",
   "execution_count": 39,
   "metadata": {
    "colab": {
     "base_uri": "https://localhost:8080/"
    },
    "id": "od5jlrK5LyUC",
    "outputId": "2ad743ac-164c-4371-82cf-54d02d19e8ff",
    "ExecuteTime": {
     "end_time": "2023-11-24T09:01:42.254996Z",
     "start_time": "2023-11-24T09:01:38.400372Z"
    }
   },
   "outputs": [
    {
     "name": "stdout",
     "output_type": "stream",
     "text": [
      "Top 3 EEG regions with highest scores\n",
      "left        60.98\n",
      "parietal    60.98\n",
      "frontal     57.72\n",
      "dtype: float64\n",
      "\n",
      "Top 2 bands with highest scores\n",
      "theta    60.98\n",
      "gamma    60.98\n",
      "dtype: float64\n",
      "\n",
      "EEG region with highest scores per each band\n",
      "theta    parietal\n",
      "alpha    parietal\n",
      "beta     parietal\n",
      "gamma        left\n",
      "dtype: object\n",
      "\n",
      "Band with highest scores per each EEG region\n",
      "left         gamma\n",
      "frontal      theta\n",
      "right        theta\n",
      "central      theta\n",
      "parietal     theta\n",
      "occipital    alpha\n",
      "dtype: object\n",
      "\n",
      "        left  frontal  right  central  parietal  occipital\n",
      "theta  52.85    57.72  52.03    56.10     60.98      52.03\n",
      "alpha  50.41    55.28  51.22    55.28     56.91      52.85\n",
      "beta   51.22    50.41  47.15    52.03     59.35      46.34\n",
      "gamma  60.98    48.78  45.53    51.22     60.16      42.28\n"
     ]
    }
   ],
   "source": [
    "# Only use MLP in case of Arousal after CV\n",
    "print_accuracy('arousal', 'mlp')"
   ]
  },
  {
   "cell_type": "markdown",
   "metadata": {
    "id": "XyIcBbhfi3N7"
   },
   "source": [
    "## F1 score results"
   ]
  },
  {
   "cell_type": "markdown",
   "metadata": {
    "id": "icTQXIOKi3OI"
   },
   "source": [
    "### Valence"
   ]
  },
  {
   "cell_type": "code",
   "execution_count": 40,
   "metadata": {
    "colab": {
     "base_uri": "https://localhost:8080/"
    },
    "id": "6_be6CxQi3OI",
    "outputId": "a4b61479-ca0a-40b0-e7be-80647fb8498d",
    "ExecuteTime": {
     "end_time": "2023-11-24T09:01:42.320308Z",
     "start_time": "2023-11-24T09:01:42.232121Z"
    }
   },
   "outputs": [
    {
     "name": "stdout",
     "output_type": "stream",
     "text": [
      "Top 3 EEG regions with highest scores\n",
      "right      72.34\n",
      "central    71.83\n",
      "left       69.35\n",
      "dtype: float64\n",
      "\n",
      "Top 2 bands with highest scores\n",
      "gamma    72.34\n",
      "theta    71.83\n",
      "dtype: float64\n",
      "\n",
      "EEG region with highest scores per each band\n",
      "theta    central\n",
      "alpha    central\n",
      "beta       right\n",
      "gamma      right\n",
      "dtype: object\n",
      "\n",
      "Band with highest scores per each EEG regions\n",
      "left          beta\n",
      "frontal      theta\n",
      "right        gamma\n",
      "central      theta\n",
      "parietal      beta\n",
      "occipital    gamma\n",
      "dtype: object\n",
      "\n",
      "        left  frontal  right  central  parietal  occipital\n",
      "theta  60.15    68.53  62.32    71.83     60.74      59.26\n",
      "alpha  61.07    54.69  63.70    69.12     65.15      58.02\n",
      "beta   69.35    67.16  70.83    62.12     66.15      67.15\n",
      "gamma  61.54    64.66  72.34    66.19     65.22      67.61\n"
     ]
    }
   ],
   "source": [
    "# Only use k-NN in case of Valence after CV\n",
    "print_f1('valence', 'knn')"
   ]
  },
  {
   "cell_type": "markdown",
   "metadata": {
    "id": "-gyBySB0i3OJ"
   },
   "source": [
    "### Arousal"
   ]
  },
  {
   "cell_type": "code",
   "execution_count": 41,
   "metadata": {
    "colab": {
     "base_uri": "https://localhost:8080/"
    },
    "id": "3_iNn2Uji3OJ",
    "outputId": "613fb238-429e-4bb5-ec5b-ed78322f2ebf",
    "ExecuteTime": {
     "end_time": "2023-11-24T09:01:46.548685Z",
     "start_time": "2023-11-24T09:01:42.322029Z"
    }
   },
   "outputs": [
    {
     "name": "stdout",
     "output_type": "stream",
     "text": [
      "Top 3 EEG regions with highest scores\n",
      "central      65.36\n",
      "occipital    65.06\n",
      "parietal     64.29\n",
      "dtype: float64\n",
      "\n",
      "Top 2 bands with highest scores\n",
      "alpha    65.36\n",
      "theta    65.33\n",
      "dtype: float64\n",
      "\n",
      "EEG region with highest scores per each band\n",
      "theta    central\n",
      "alpha    central\n",
      "beta     central\n",
      "gamma    frontal\n",
      "dtype: object\n",
      "\n",
      "Band with highest scores per each EEG regions\n",
      "left         theta\n",
      "frontal      alpha\n",
      "right        alpha\n",
      "central      alpha\n",
      "parietal     theta\n",
      "occipital    alpha\n",
      "dtype: object\n",
      "\n",
      "        left  frontal  right  central  parietal  occipital\n",
      "theta  63.69    61.54  62.96    65.33     64.29      65.00\n",
      "alpha  62.89    61.64  63.80    65.36     58.91      65.06\n",
      "beta   50.43    54.26  59.87    64.10     54.39      57.50\n",
      "gamma  52.34    58.33  55.26    56.12     54.55      50.00\n"
     ]
    }
   ],
   "source": [
    "# Only use MLP in case of Arousal after CV\n",
    "print_f1('arousal', 'mlp')"
   ]
  },
  {
   "cell_type": "markdown",
   "metadata": {
    "id": "NrxRO1B94cRL"
   },
   "source": [
    "## Plot results"
   ]
  },
  {
   "cell_type": "markdown",
   "metadata": {
    "id": "4sDlo8Qe5ajN"
   },
   "source": [
    "#### Top combinations for Valence"
   ]
  },
  {
   "cell_type": "code",
   "execution_count": 42,
   "metadata": {
    "colab": {
     "base_uri": "https://localhost:8080/",
     "height": 493
    },
    "id": "wNa-HXUCsRka",
    "outputId": "2c712fde-fd4b-42ae-ceda-e6f400865bc4",
    "ExecuteTime": {
     "end_time": "2023-11-24T09:01:46.822101Z",
     "start_time": "2023-11-24T09:01:46.550759Z"
    }
   },
   "outputs": [
    {
     "name": "stdout",
     "output_type": "stream",
     "text": [
      "[[32 21]\n",
      " [19 51]]\n",
      "              precision    recall  f1-score   support\n",
      "\n",
      "           0       0.63      0.60      0.62        53\n",
      "           1       0.71      0.73      0.72        70\n",
      "\n",
      "    accuracy                           0.67       123\n",
      "   macro avg       0.67      0.67      0.67       123\n",
      "weighted avg       0.67      0.67      0.67       123\n"
     ]
    },
    {
     "data": {
      "text/plain": "<Figure size 640x480 with 2 Axes>",
      "image/png": "[encoded data removed]"
     },
     "metadata": {},
     "output_type": "display_data"
    }
   ],
   "source": [
    "plot_cm('theta', 'central', 'valence', 'knn')"
   ]
  },
  {
   "cell_type": "code",
   "execution_count": 43,
   "metadata": {
    "colab": {
     "base_uri": "https://localhost:8080/",
     "height": 493
    },
    "id": "W1E0jYbun33I",
    "outputId": "031e2755-530a-4a17-a644-efd75187198f",
    "ExecuteTime": {
     "end_time": "2023-11-24T09:01:46.882172Z",
     "start_time": "2023-11-24T09:01:46.806261Z"
    }
   },
   "outputs": [
    {
     "name": "stdout",
     "output_type": "stream",
     "text": [
      "[[42 11]\n",
      " [27 43]]\n",
      "              precision    recall  f1-score   support\n",
      "\n",
      "           0       0.61      0.79      0.69        53\n",
      "           1       0.80      0.61      0.69        70\n",
      "\n",
      "    accuracy                           0.69       123\n",
      "   macro avg       0.70      0.70      0.69       123\n",
      "weighted avg       0.72      0.69      0.69       123\n"
     ]
    },
    {
     "data": {
      "text/plain": "<Figure size 640x480 with 2 Axes>",
      "image/png": "[encoded data removed]"
     },
     "metadata": {},
     "output_type": "display_data"
    }
   ],
   "source": [
    "plot_cm('beta', 'left', 'valence', 'knn')"
   ]
  },
  {
   "cell_type": "code",
   "execution_count": 44,
   "metadata": {
    "colab": {
     "base_uri": "https://localhost:8080/",
     "height": 493
    },
    "id": "BFmooDTooPAK",
    "outputId": "d2c25449-9db7-4967-8146-a90586d0f353",
    "ExecuteTime": {
     "end_time": "2023-11-24T09:01:46.979930Z",
     "start_time": "2023-11-24T09:01:46.883337Z"
    }
   },
   "outputs": [
    {
     "name": "stdout",
     "output_type": "stream",
     "text": [
      "[[33 20]\n",
      " [19 51]]\n",
      "              precision    recall  f1-score   support\n",
      "\n",
      "           0       0.63      0.62      0.63        53\n",
      "           1       0.72      0.73      0.72        70\n",
      "\n",
      "    accuracy                           0.68       123\n",
      "   macro avg       0.68      0.68      0.68       123\n",
      "weighted avg       0.68      0.68      0.68       123\n"
     ]
    },
    {
     "data": {
      "text/plain": "<Figure size 640x480 with 2 Axes>",
      "image/png": "[encoded data removed]"
     },
     "metadata": {},
     "output_type": "display_data"
    }
   ],
   "source": [
    "plot_cm('gamma', 'right', 'valence', 'knn')"
   ]
  },
  {
   "cell_type": "markdown",
   "metadata": {
    "id": "3ett55kG5krG"
   },
   "source": [
    "#### Top combinations for Arousal"
   ]
  },
  {
   "cell_type": "code",
   "execution_count": 45,
   "metadata": {
    "colab": {
     "base_uri": "https://localhost:8080/",
     "height": 493
    },
    "id": "4ZMYZN_CskYA",
    "outputId": "91e8a872-2dd7-418d-ebaa-728132611450",
    "ExecuteTime": {
     "end_time": "2023-11-24T09:01:47.522803Z",
     "start_time": "2023-11-24T09:01:46.981924Z"
    }
   },
   "outputs": [
    {
     "name": "stdout",
     "output_type": "stream",
     "text": [
      "[[23 38]\n",
      " [14 48]]\n",
      "              precision    recall  f1-score   support\n",
      "\n",
      "           0       0.62      0.38      0.47        61\n",
      "           1       0.56      0.77      0.65        62\n",
      "\n",
      "    accuracy                           0.58       123\n",
      "   macro avg       0.59      0.58      0.56       123\n",
      "weighted avg       0.59      0.58      0.56       123\n"
     ]
    },
    {
     "data": {
      "text/plain": "<Figure size 640x480 with 2 Axes>",
      "image/png": "[encoded data removed]"
     },
     "metadata": {},
     "output_type": "display_data"
    }
   ],
   "source": [
    "plot_cm('alpha', 'central', 'arousal', 'mlp')"
   ]
  },
  {
   "cell_type": "code",
   "execution_count": 46,
   "metadata": {
    "colab": {
     "base_uri": "https://localhost:8080/",
     "height": 493
    },
    "id": "pnYfcidcML5Y",
    "outputId": "9681bc9f-1cd8-4107-8d9a-b59751ab4d6f",
    "ExecuteTime": {
     "end_time": "2023-11-24T09:01:47.767248Z",
     "start_time": "2023-11-24T09:01:47.487326Z"
    }
   },
   "outputs": [
    {
     "name": "stdout",
     "output_type": "stream",
     "text": [
      "[[26 35]\n",
      " [15 47]]\n",
      "              precision    recall  f1-score   support\n",
      "\n",
      "           0       0.63      0.43      0.51        61\n",
      "           1       0.57      0.76      0.65        62\n",
      "\n",
      "    accuracy                           0.59       123\n",
      "   macro avg       0.60      0.59      0.58       123\n",
      "weighted avg       0.60      0.59      0.58       123\n"
     ]
    },
    {
     "data": {
      "text/plain": "<Figure size 640x480 with 2 Axes>",
      "image/png": "[encoded data removed]"
     },
     "metadata": {},
     "output_type": "display_data"
    }
   ],
   "source": [
    "plot_cm('theta', 'parietal', 'arousal', 'mlp')"
   ]
  },
  {
   "cell_type": "code",
   "execution_count": 47,
   "outputs": [
    {
     "name": "stdout",
     "output_type": "stream",
     "text": [
      "[[27 34]\n",
      " [26 36]]\n",
      "              precision    recall  f1-score   support\n",
      "\n",
      "           0       0.51      0.44      0.47        61\n",
      "           1       0.51      0.58      0.55        62\n",
      "\n",
      "    accuracy                           0.51       123\n",
      "   macro avg       0.51      0.51      0.51       123\n",
      "weighted avg       0.51      0.51      0.51       123\n"
     ]
    },
    {
     "data": {
      "text/plain": "<Figure size 640x480 with 2 Axes>",
      "image/png": "[encoded data removed]"
     },
     "metadata": {},
     "output_type": "display_data"
    }
   ],
   "source": [
    "plot_cm('beta', 'frontal', 'arousal', 'mlp')"
   ],
   "metadata": {
    "collapsed": false,
    "ExecuteTime": {
     "end_time": "2023-11-24T09:01:48.152282Z",
     "start_time": "2023-11-24T09:01:47.766257Z"
    }
   }
  }
 ],
 "metadata": {
  "colab": {
   "collapsed_sections": [
    "o_aflOWKGbi6",
    "44LeXIJKwFZQ",
    "MbR-yzBmklEv",
    "EMULqzxuv5rG",
    "qJuZ48FormXW",
    "PQL4IVupDmQg",
    "bSIWwDsNHauz",
    "AwdusXNJGfqg",
    "IO2bKkvRGx6-",
    "gS3uZ_ADGdkm",
    "VFh9c8v5IoM9",
    "XBF3IrqHMRn9",
    "XCq7PAqOMAej",
    "Ubyhu_2QpF3h",
    "UDyMmKX6e3wl",
    "UT6wjhN-Z_eY",
    "3M5NAOt2cnsK",
    "hdjUxI0hdi0v",
    "wN4162ixeK9w",
    "eQlRP4LrOMlk",
    "n1qYAemsZVGI",
    "rJGy_VeJMRbc",
    "aZkugf5yMbfG",
    "TAIvhiHIMfZK",
    "yOuzoYWn_4wj",
    "Qu8s_8E4Lq6X",
    "uHawo_dHLyUB",
    "icTQXIOKi3OI",
    "-gyBySB0i3OJ",
    "NrxRO1B94cRL"
   ],
   "name": "eeg-based-emotion-classification.ipynb",
   "provenance": []
  },
  "kernelspec": {
   "display_name": "Python 3 (ipykernel)",
   "language": "python",
   "name": "python3"
  },
  "language_info": {
   "codemirror_mode": {
    "name": "ipython",
    "version": 3
   },
   "file_extension": ".py",
   "mimetype": "text/x-python",
   "name": "python",
   "nbconvert_exporter": "python",
   "pygments_lexer": "ipython3",
   "version": "3.9.12"
  }
 },
 "nbformat": 4,
 "nbformat_minor": 1
}
